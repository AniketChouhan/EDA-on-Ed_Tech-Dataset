{
 "cells": [
  {
   "cell_type": "code",
   "execution_count": 1,
   "id": "3d3fb89e",
   "metadata": {},
   "outputs": [],
   "source": [
    "import pandas as pd\n",
    "import numpy as np\n",
    "import matplotlib.pyplot as plt\n",
    "import seaborn as sns"
   ]
  },
  {
   "cell_type": "code",
   "execution_count": 2,
   "id": "2e661760",
   "metadata": {},
   "outputs": [],
   "source": [
    "Course = pd.read_csv(\"C:/Users/HP/online_All_Business_p1_p626.csv\")"
   ]
  },
  {
   "cell_type": "code",
   "execution_count": 3,
   "id": "38f15abd",
   "metadata": {},
   "outputs": [
    {
     "data": {
      "text/html": [
       "<div>\n",
       "<style scoped>\n",
       "    .dataframe tbody tr th:only-of-type {\n",
       "        vertical-align: middle;\n",
       "    }\n",
       "\n",
       "    .dataframe tbody tr th {\n",
       "        vertical-align: top;\n",
       "    }\n",
       "\n",
       "    .dataframe thead th {\n",
       "        text-align: right;\n",
       "    }\n",
       "</style>\n",
       "<table border=\"1\" class=\"dataframe\">\n",
       "  <thead>\n",
       "    <tr style=\"text-align: right;\">\n",
       "      <th></th>\n",
       "      <th>id</th>\n",
       "      <th>title</th>\n",
       "      <th>url</th>\n",
       "      <th>is_paid</th>\n",
       "      <th>num_subscribers</th>\n",
       "      <th>avg_rating</th>\n",
       "      <th>avg_rating_recent</th>\n",
       "      <th>rating</th>\n",
       "      <th>num_reviews</th>\n",
       "      <th>is_wishlisted</th>\n",
       "      <th>num_published_lectures</th>\n",
       "      <th>num_published_practice_tests</th>\n",
       "      <th>created</th>\n",
       "      <th>published_time</th>\n",
       "      <th>discount_price__amount</th>\n",
       "      <th>discount_price__currency</th>\n",
       "      <th>discount_price__price_string</th>\n",
       "      <th>price_detail__amount</th>\n",
       "      <th>price_detail__currency</th>\n",
       "      <th>price_detail__price_string</th>\n",
       "    </tr>\n",
       "  </thead>\n",
       "  <tbody>\n",
       "    <tr>\n",
       "      <th>0</th>\n",
       "      <td>762616</td>\n",
       "      <td>The Complete SQL Bootcamp 2020: Go from Zero t...</td>\n",
       "      <td>/course/the-complete-sql-bootcamp/</td>\n",
       "      <td>True</td>\n",
       "      <td>295509</td>\n",
       "      <td>4.66019</td>\n",
       "      <td>4.67874</td>\n",
       "      <td>4.67874</td>\n",
       "      <td>78006</td>\n",
       "      <td>False</td>\n",
       "      <td>84</td>\n",
       "      <td>0</td>\n",
       "      <td>2016-02-14T22:57:48Z</td>\n",
       "      <td>2016-04-06T05:16:11Z</td>\n",
       "      <td>455.0</td>\n",
       "      <td>INR</td>\n",
       "      <td>₹455</td>\n",
       "      <td>8640</td>\n",
       "      <td>INR</td>\n",
       "      <td>₹8,640</td>\n",
       "    </tr>\n",
       "    <tr>\n",
       "      <th>1</th>\n",
       "      <td>937678</td>\n",
       "      <td>Tableau 2020 A-Z: Hands-On Tableau Training fo...</td>\n",
       "      <td>/course/tableau10/</td>\n",
       "      <td>True</td>\n",
       "      <td>209070</td>\n",
       "      <td>4.58956</td>\n",
       "      <td>4.60015</td>\n",
       "      <td>4.60015</td>\n",
       "      <td>54581</td>\n",
       "      <td>False</td>\n",
       "      <td>78</td>\n",
       "      <td>0</td>\n",
       "      <td>2016-08-22T12:10:18Z</td>\n",
       "      <td>2016-08-23T16:59:49Z</td>\n",
       "      <td>455.0</td>\n",
       "      <td>INR</td>\n",
       "      <td>₹455</td>\n",
       "      <td>8640</td>\n",
       "      <td>INR</td>\n",
       "      <td>₹8,640</td>\n",
       "    </tr>\n",
       "    <tr>\n",
       "      <th>2</th>\n",
       "      <td>1361790</td>\n",
       "      <td>PMP Exam Prep Seminar -  PMBOK Guide 6</td>\n",
       "      <td>/course/pmp-pmbok6-35-pdus/</td>\n",
       "      <td>True</td>\n",
       "      <td>155282</td>\n",
       "      <td>4.59491</td>\n",
       "      <td>4.59326</td>\n",
       "      <td>4.59326</td>\n",
       "      <td>52653</td>\n",
       "      <td>False</td>\n",
       "      <td>292</td>\n",
       "      <td>2</td>\n",
       "      <td>2017-09-26T16:32:48Z</td>\n",
       "      <td>2017-11-14T23:58:14Z</td>\n",
       "      <td>455.0</td>\n",
       "      <td>INR</td>\n",
       "      <td>₹455</td>\n",
       "      <td>8640</td>\n",
       "      <td>INR</td>\n",
       "      <td>₹8,640</td>\n",
       "    </tr>\n",
       "    <tr>\n",
       "      <th>3</th>\n",
       "      <td>648826</td>\n",
       "      <td>The Complete Financial Analyst Course 2020</td>\n",
       "      <td>/course/the-complete-financial-analyst-course/</td>\n",
       "      <td>True</td>\n",
       "      <td>245860</td>\n",
       "      <td>4.54407</td>\n",
       "      <td>4.53772</td>\n",
       "      <td>4.53772</td>\n",
       "      <td>46447</td>\n",
       "      <td>False</td>\n",
       "      <td>338</td>\n",
       "      <td>0</td>\n",
       "      <td>2015-10-23T13:34:35Z</td>\n",
       "      <td>2016-01-21T01:38:48Z</td>\n",
       "      <td>455.0</td>\n",
       "      <td>INR</td>\n",
       "      <td>₹455</td>\n",
       "      <td>8640</td>\n",
       "      <td>INR</td>\n",
       "      <td>₹8,640</td>\n",
       "    </tr>\n",
       "    <tr>\n",
       "      <th>4</th>\n",
       "      <td>637930</td>\n",
       "      <td>An Entire MBA in 1 Course:Award Winning Busine...</td>\n",
       "      <td>/course/an-entire-mba-in-1-courseaward-winning...</td>\n",
       "      <td>True</td>\n",
       "      <td>374836</td>\n",
       "      <td>4.47080</td>\n",
       "      <td>4.47173</td>\n",
       "      <td>4.47173</td>\n",
       "      <td>41630</td>\n",
       "      <td>False</td>\n",
       "      <td>83</td>\n",
       "      <td>0</td>\n",
       "      <td>2015-10-12T06:39:46Z</td>\n",
       "      <td>2016-01-11T21:39:33Z</td>\n",
       "      <td>455.0</td>\n",
       "      <td>INR</td>\n",
       "      <td>₹455</td>\n",
       "      <td>8640</td>\n",
       "      <td>INR</td>\n",
       "      <td>₹8,640</td>\n",
       "    </tr>\n",
       "  </tbody>\n",
       "</table>\n",
       "</div>"
      ],
      "text/plain": [
       "        id                                              title  \\\n",
       "0   762616  The Complete SQL Bootcamp 2020: Go from Zero t...   \n",
       "1   937678  Tableau 2020 A-Z: Hands-On Tableau Training fo...   \n",
       "2  1361790             PMP Exam Prep Seminar -  PMBOK Guide 6   \n",
       "3   648826         The Complete Financial Analyst Course 2020   \n",
       "4   637930  An Entire MBA in 1 Course:Award Winning Busine...   \n",
       "\n",
       "                                                 url  is_paid  \\\n",
       "0                 /course/the-complete-sql-bootcamp/     True   \n",
       "1                                 /course/tableau10/     True   \n",
       "2                        /course/pmp-pmbok6-35-pdus/     True   \n",
       "3     /course/the-complete-financial-analyst-course/     True   \n",
       "4  /course/an-entire-mba-in-1-courseaward-winning...     True   \n",
       "\n",
       "   num_subscribers  avg_rating  avg_rating_recent   rating  num_reviews  \\\n",
       "0           295509     4.66019            4.67874  4.67874        78006   \n",
       "1           209070     4.58956            4.60015  4.60015        54581   \n",
       "2           155282     4.59491            4.59326  4.59326        52653   \n",
       "3           245860     4.54407            4.53772  4.53772        46447   \n",
       "4           374836     4.47080            4.47173  4.47173        41630   \n",
       "\n",
       "   is_wishlisted  num_published_lectures  num_published_practice_tests  \\\n",
       "0          False                      84                             0   \n",
       "1          False                      78                             0   \n",
       "2          False                     292                             2   \n",
       "3          False                     338                             0   \n",
       "4          False                      83                             0   \n",
       "\n",
       "                created        published_time  discount_price__amount  \\\n",
       "0  2016-02-14T22:57:48Z  2016-04-06T05:16:11Z                   455.0   \n",
       "1  2016-08-22T12:10:18Z  2016-08-23T16:59:49Z                   455.0   \n",
       "2  2017-09-26T16:32:48Z  2017-11-14T23:58:14Z                   455.0   \n",
       "3  2015-10-23T13:34:35Z  2016-01-21T01:38:48Z                   455.0   \n",
       "4  2015-10-12T06:39:46Z  2016-01-11T21:39:33Z                   455.0   \n",
       "\n",
       "  discount_price__currency discount_price__price_string  price_detail__amount  \\\n",
       "0                      INR                         ₹455                  8640   \n",
       "1                      INR                         ₹455                  8640   \n",
       "2                      INR                         ₹455                  8640   \n",
       "3                      INR                         ₹455                  8640   \n",
       "4                      INR                         ₹455                  8640   \n",
       "\n",
       "  price_detail__currency price_detail__price_string  \n",
       "0                    INR                     ₹8,640  \n",
       "1                    INR                     ₹8,640  \n",
       "2                    INR                     ₹8,640  \n",
       "3                    INR                     ₹8,640  \n",
       "4                    INR                     ₹8,640  "
      ]
     },
     "execution_count": 3,
     "metadata": {},
     "output_type": "execute_result"
    }
   ],
   "source": [
    "Course.head()"
   ]
  },
  {
   "cell_type": "code",
   "execution_count": 4,
   "id": "abde3730",
   "metadata": {},
   "outputs": [
    {
     "data": {
      "text/html": [
       "<div>\n",
       "<style scoped>\n",
       "    .dataframe tbody tr th:only-of-type {\n",
       "        vertical-align: middle;\n",
       "    }\n",
       "\n",
       "    .dataframe tbody tr th {\n",
       "        vertical-align: top;\n",
       "    }\n",
       "\n",
       "    .dataframe thead th {\n",
       "        text-align: right;\n",
       "    }\n",
       "</style>\n",
       "<table border=\"1\" class=\"dataframe\">\n",
       "  <thead>\n",
       "    <tr style=\"text-align: right;\">\n",
       "      <th></th>\n",
       "      <th>id</th>\n",
       "      <th>title</th>\n",
       "      <th>url</th>\n",
       "      <th>is_paid</th>\n",
       "      <th>num_subscribers</th>\n",
       "      <th>avg_rating</th>\n",
       "      <th>avg_rating_recent</th>\n",
       "      <th>rating</th>\n",
       "      <th>num_reviews</th>\n",
       "      <th>is_wishlisted</th>\n",
       "      <th>num_published_lectures</th>\n",
       "      <th>num_published_practice_tests</th>\n",
       "      <th>created</th>\n",
       "      <th>published_time</th>\n",
       "      <th>discount_price__amount</th>\n",
       "      <th>discount_price__currency</th>\n",
       "      <th>discount_price__price_string</th>\n",
       "      <th>price_detail__amount</th>\n",
       "      <th>price_detail__currency</th>\n",
       "      <th>price_detail__price_string</th>\n",
       "    </tr>\n",
       "  </thead>\n",
       "  <tbody>\n",
       "    <tr>\n",
       "      <th>9437</th>\n",
       "      <td>1380170</td>\n",
       "      <td>MBA ASAP Guide to Startups and Entrepreneurship</td>\n",
       "      <td>/course/startups-m/</td>\n",
       "      <td>True</td>\n",
       "      <td>116</td>\n",
       "      <td>4.66667</td>\n",
       "      <td>4.63019</td>\n",
       "      <td>4.63019</td>\n",
       "      <td>3</td>\n",
       "      <td>False</td>\n",
       "      <td>46</td>\n",
       "      <td>0</td>\n",
       "      <td>2017-10-04T20:38:28Z</td>\n",
       "      <td>2017-10-11T23:35:38Z</td>\n",
       "      <td>455.0</td>\n",
       "      <td>INR</td>\n",
       "      <td>₹455</td>\n",
       "      <td>1280</td>\n",
       "      <td>INR</td>\n",
       "      <td>₹1,280</td>\n",
       "    </tr>\n",
       "    <tr>\n",
       "      <th>9438</th>\n",
       "      <td>1024882</td>\n",
       "      <td>Closing a UK Limited Company</td>\n",
       "      <td>/course/closing-a-uk-limited-company/</td>\n",
       "      <td>True</td>\n",
       "      <td>14</td>\n",
       "      <td>3.66667</td>\n",
       "      <td>4.67611</td>\n",
       "      <td>4.67611</td>\n",
       "      <td>3</td>\n",
       "      <td>False</td>\n",
       "      <td>10</td>\n",
       "      <td>0</td>\n",
       "      <td>2016-11-27T22:37:01Z</td>\n",
       "      <td>2018-11-30T18:00:29Z</td>\n",
       "      <td>455.0</td>\n",
       "      <td>INR</td>\n",
       "      <td>₹455</td>\n",
       "      <td>1920</td>\n",
       "      <td>INR</td>\n",
       "      <td>₹1,920</td>\n",
       "    </tr>\n",
       "    <tr>\n",
       "      <th>9439</th>\n",
       "      <td>1399024</td>\n",
       "      <td>Intelligent Selling Masterclass</td>\n",
       "      <td>/course/intelligent-selling-masterclass/</td>\n",
       "      <td>True</td>\n",
       "      <td>275</td>\n",
       "      <td>5.00000</td>\n",
       "      <td>5.00000</td>\n",
       "      <td>5.00000</td>\n",
       "      <td>3</td>\n",
       "      <td>False</td>\n",
       "      <td>7</td>\n",
       "      <td>0</td>\n",
       "      <td>2017-10-18T08:41:48Z</td>\n",
       "      <td>2017-10-18T22:31:56Z</td>\n",
       "      <td>455.0</td>\n",
       "      <td>INR</td>\n",
       "      <td>₹455</td>\n",
       "      <td>1600</td>\n",
       "      <td>INR</td>\n",
       "      <td>₹1,600</td>\n",
       "    </tr>\n",
       "    <tr>\n",
       "      <th>9440</th>\n",
       "      <td>2432444</td>\n",
       "      <td>Improving Employee Performance</td>\n",
       "      <td>/course/improving-employee-performance/</td>\n",
       "      <td>True</td>\n",
       "      <td>13</td>\n",
       "      <td>4.50000</td>\n",
       "      <td>4.56275</td>\n",
       "      <td>4.56275</td>\n",
       "      <td>3</td>\n",
       "      <td>False</td>\n",
       "      <td>17</td>\n",
       "      <td>0</td>\n",
       "      <td>2019-06-27T06:41:36Z</td>\n",
       "      <td>2019-07-27T18:52:30Z</td>\n",
       "      <td>455.0</td>\n",
       "      <td>INR</td>\n",
       "      <td>₹455</td>\n",
       "      <td>1280</td>\n",
       "      <td>INR</td>\n",
       "      <td>₹1,280</td>\n",
       "    </tr>\n",
       "    <tr>\n",
       "      <th>9441</th>\n",
       "      <td>2378286</td>\n",
       "      <td>Ten Steps to Sales Success</td>\n",
       "      <td>/course/ten-steps-to-sales-success/</td>\n",
       "      <td>True</td>\n",
       "      <td>19</td>\n",
       "      <td>4.33333</td>\n",
       "      <td>4.49935</td>\n",
       "      <td>4.49935</td>\n",
       "      <td>3</td>\n",
       "      <td>False</td>\n",
       "      <td>12</td>\n",
       "      <td>0</td>\n",
       "      <td>2019-05-21T19:16:58Z</td>\n",
       "      <td>2019-08-06T14:01:04Z</td>\n",
       "      <td>455.0</td>\n",
       "      <td>INR</td>\n",
       "      <td>₹455</td>\n",
       "      <td>1600</td>\n",
       "      <td>INR</td>\n",
       "      <td>₹1,600</td>\n",
       "    </tr>\n",
       "    <tr>\n",
       "      <th>9442</th>\n",
       "      <td>1934910</td>\n",
       "      <td>Simple Value Investing Guide With Proven Methods</td>\n",
       "      <td>/course/simple-value-investing-guide-with-prov...</td>\n",
       "      <td>True</td>\n",
       "      <td>1129</td>\n",
       "      <td>3.50000</td>\n",
       "      <td>3.43520</td>\n",
       "      <td>3.43520</td>\n",
       "      <td>3</td>\n",
       "      <td>False</td>\n",
       "      <td>35</td>\n",
       "      <td>0</td>\n",
       "      <td>2018-09-27T04:37:00Z</td>\n",
       "      <td>2018-10-31T22:58:12Z</td>\n",
       "      <td>455.0</td>\n",
       "      <td>INR</td>\n",
       "      <td>₹455</td>\n",
       "      <td>8640</td>\n",
       "      <td>INR</td>\n",
       "      <td>₹8,640</td>\n",
       "    </tr>\n",
       "    <tr>\n",
       "      <th>9443</th>\n",
       "      <td>2057175</td>\n",
       "      <td>Effectively Optimizing Your Recruitment Process</td>\n",
       "      <td>/course/optimizing-your-recruitment-process/</td>\n",
       "      <td>True</td>\n",
       "      <td>9</td>\n",
       "      <td>2.16667</td>\n",
       "      <td>2.16014</td>\n",
       "      <td>2.16014</td>\n",
       "      <td>3</td>\n",
       "      <td>False</td>\n",
       "      <td>26</td>\n",
       "      <td>0</td>\n",
       "      <td>2018-11-29T13:39:30Z</td>\n",
       "      <td>2018-12-04T02:13:17Z</td>\n",
       "      <td>455.0</td>\n",
       "      <td>INR</td>\n",
       "      <td>₹455</td>\n",
       "      <td>1280</td>\n",
       "      <td>INR</td>\n",
       "      <td>₹1,280</td>\n",
       "    </tr>\n",
       "    <tr>\n",
       "      <th>9444</th>\n",
       "      <td>1964000</td>\n",
       "      <td>Leadership Development:Ready To Use Tools to l...</td>\n",
       "      <td>/course/leadership-development-how-to-lead-you...</td>\n",
       "      <td>True</td>\n",
       "      <td>1017</td>\n",
       "      <td>4.16667</td>\n",
       "      <td>3.88844</td>\n",
       "      <td>3.88844</td>\n",
       "      <td>3</td>\n",
       "      <td>False</td>\n",
       "      <td>5</td>\n",
       "      <td>0</td>\n",
       "      <td>2018-10-13T10:03:33Z</td>\n",
       "      <td>2018-10-27T21:50:36Z</td>\n",
       "      <td>455.0</td>\n",
       "      <td>INR</td>\n",
       "      <td>₹455</td>\n",
       "      <td>6400</td>\n",
       "      <td>INR</td>\n",
       "      <td>₹6,400</td>\n",
       "    </tr>\n",
       "    <tr>\n",
       "      <th>9445</th>\n",
       "      <td>2769588</td>\n",
       "      <td>Business Efficiency: How To Increase Workplace...</td>\n",
       "      <td>/course/business-efficiency-how-to-increase-wo...</td>\n",
       "      <td>True</td>\n",
       "      <td>1716</td>\n",
       "      <td>3.66667</td>\n",
       "      <td>3.52632</td>\n",
       "      <td>3.52632</td>\n",
       "      <td>3</td>\n",
       "      <td>False</td>\n",
       "      <td>7</td>\n",
       "      <td>0</td>\n",
       "      <td>2020-01-20T18:10:33Z</td>\n",
       "      <td>2020-01-21T16:25:32Z</td>\n",
       "      <td>455.0</td>\n",
       "      <td>INR</td>\n",
       "      <td>₹455</td>\n",
       "      <td>6400</td>\n",
       "      <td>INR</td>\n",
       "      <td>₹6,400</td>\n",
       "    </tr>\n",
       "    <tr>\n",
       "      <th>9446</th>\n",
       "      <td>2801192</td>\n",
       "      <td>How to enter the US market?</td>\n",
       "      <td>/course/how-to-enter-the-us-market/</td>\n",
       "      <td>True</td>\n",
       "      <td>14</td>\n",
       "      <td>5.00000</td>\n",
       "      <td>5.00000</td>\n",
       "      <td>5.00000</td>\n",
       "      <td>3</td>\n",
       "      <td>False</td>\n",
       "      <td>5</td>\n",
       "      <td>0</td>\n",
       "      <td>2020-02-07T06:16:29Z</td>\n",
       "      <td>2020-02-11T22:10:35Z</td>\n",
       "      <td>455.0</td>\n",
       "      <td>INR</td>\n",
       "      <td>₹455</td>\n",
       "      <td>6400</td>\n",
       "      <td>INR</td>\n",
       "      <td>₹6,400</td>\n",
       "    </tr>\n",
       "  </tbody>\n",
       "</table>\n",
       "</div>"
      ],
      "text/plain": [
       "           id                                              title  \\\n",
       "9437  1380170    MBA ASAP Guide to Startups and Entrepreneurship   \n",
       "9438  1024882                       Closing a UK Limited Company   \n",
       "9439  1399024                    Intelligent Selling Masterclass   \n",
       "9440  2432444                     Improving Employee Performance   \n",
       "9441  2378286                         Ten Steps to Sales Success   \n",
       "9442  1934910   Simple Value Investing Guide With Proven Methods   \n",
       "9443  2057175    Effectively Optimizing Your Recruitment Process   \n",
       "9444  1964000  Leadership Development:Ready To Use Tools to l...   \n",
       "9445  2769588  Business Efficiency: How To Increase Workplace...   \n",
       "9446  2801192                        How to enter the US market?   \n",
       "\n",
       "                                                    url  is_paid  \\\n",
       "9437                                /course/startups-m/     True   \n",
       "9438              /course/closing-a-uk-limited-company/     True   \n",
       "9439           /course/intelligent-selling-masterclass/     True   \n",
       "9440            /course/improving-employee-performance/     True   \n",
       "9441                /course/ten-steps-to-sales-success/     True   \n",
       "9442  /course/simple-value-investing-guide-with-prov...     True   \n",
       "9443       /course/optimizing-your-recruitment-process/     True   \n",
       "9444  /course/leadership-development-how-to-lead-you...     True   \n",
       "9445  /course/business-efficiency-how-to-increase-wo...     True   \n",
       "9446                /course/how-to-enter-the-us-market/     True   \n",
       "\n",
       "      num_subscribers  avg_rating  avg_rating_recent   rating  num_reviews  \\\n",
       "9437              116     4.66667            4.63019  4.63019            3   \n",
       "9438               14     3.66667            4.67611  4.67611            3   \n",
       "9439              275     5.00000            5.00000  5.00000            3   \n",
       "9440               13     4.50000            4.56275  4.56275            3   \n",
       "9441               19     4.33333            4.49935  4.49935            3   \n",
       "9442             1129     3.50000            3.43520  3.43520            3   \n",
       "9443                9     2.16667            2.16014  2.16014            3   \n",
       "9444             1017     4.16667            3.88844  3.88844            3   \n",
       "9445             1716     3.66667            3.52632  3.52632            3   \n",
       "9446               14     5.00000            5.00000  5.00000            3   \n",
       "\n",
       "      is_wishlisted  num_published_lectures  num_published_practice_tests  \\\n",
       "9437          False                      46                             0   \n",
       "9438          False                      10                             0   \n",
       "9439          False                       7                             0   \n",
       "9440          False                      17                             0   \n",
       "9441          False                      12                             0   \n",
       "9442          False                      35                             0   \n",
       "9443          False                      26                             0   \n",
       "9444          False                       5                             0   \n",
       "9445          False                       7                             0   \n",
       "9446          False                       5                             0   \n",
       "\n",
       "                   created        published_time  discount_price__amount  \\\n",
       "9437  2017-10-04T20:38:28Z  2017-10-11T23:35:38Z                   455.0   \n",
       "9438  2016-11-27T22:37:01Z  2018-11-30T18:00:29Z                   455.0   \n",
       "9439  2017-10-18T08:41:48Z  2017-10-18T22:31:56Z                   455.0   \n",
       "9440  2019-06-27T06:41:36Z  2019-07-27T18:52:30Z                   455.0   \n",
       "9441  2019-05-21T19:16:58Z  2019-08-06T14:01:04Z                   455.0   \n",
       "9442  2018-09-27T04:37:00Z  2018-10-31T22:58:12Z                   455.0   \n",
       "9443  2018-11-29T13:39:30Z  2018-12-04T02:13:17Z                   455.0   \n",
       "9444  2018-10-13T10:03:33Z  2018-10-27T21:50:36Z                   455.0   \n",
       "9445  2020-01-20T18:10:33Z  2020-01-21T16:25:32Z                   455.0   \n",
       "9446  2020-02-07T06:16:29Z  2020-02-11T22:10:35Z                   455.0   \n",
       "\n",
       "     discount_price__currency discount_price__price_string  \\\n",
       "9437                      INR                         ₹455   \n",
       "9438                      INR                         ₹455   \n",
       "9439                      INR                         ₹455   \n",
       "9440                      INR                         ₹455   \n",
       "9441                      INR                         ₹455   \n",
       "9442                      INR                         ₹455   \n",
       "9443                      INR                         ₹455   \n",
       "9444                      INR                         ₹455   \n",
       "9445                      INR                         ₹455   \n",
       "9446                      INR                         ₹455   \n",
       "\n",
       "      price_detail__amount price_detail__currency price_detail__price_string  \n",
       "9437                  1280                    INR                     ₹1,280  \n",
       "9438                  1920                    INR                     ₹1,920  \n",
       "9439                  1600                    INR                     ₹1,600  \n",
       "9440                  1280                    INR                     ₹1,280  \n",
       "9441                  1600                    INR                     ₹1,600  \n",
       "9442                  8640                    INR                     ₹8,640  \n",
       "9443                  1280                    INR                     ₹1,280  \n",
       "9444                  6400                    INR                     ₹6,400  \n",
       "9445                  6400                    INR                     ₹6,400  \n",
       "9446                  6400                    INR                     ₹6,400  "
      ]
     },
     "execution_count": 4,
     "metadata": {},
     "output_type": "execute_result"
    }
   ],
   "source": [
    "Course.tail(10)"
   ]
  },
  {
   "cell_type": "markdown",
   "id": "bd4f19f2",
   "metadata": {},
   "source": [
    "### Getting Information About Data"
   ]
  },
  {
   "cell_type": "code",
   "execution_count": 5,
   "id": "65015c80",
   "metadata": {},
   "outputs": [
    {
     "data": {
      "text/plain": [
       "(9447, 20)"
      ]
     },
     "execution_count": 5,
     "metadata": {},
     "output_type": "execute_result"
    }
   ],
   "source": [
    "Course.shape"
   ]
  },
  {
   "cell_type": "code",
   "execution_count": 6,
   "id": "289078a6",
   "metadata": {},
   "outputs": [
    {
     "data": {
      "text/plain": [
       "Index(['id', 'title', 'url', 'is_paid', 'num_subscribers', 'avg_rating',\n",
       "       'avg_rating_recent', 'rating', 'num_reviews', 'is_wishlisted',\n",
       "       'num_published_lectures', 'num_published_practice_tests', 'created',\n",
       "       'published_time', 'discount_price__amount', 'discount_price__currency',\n",
       "       'discount_price__price_string', 'price_detail__amount',\n",
       "       'price_detail__currency', 'price_detail__price_string'],\n",
       "      dtype='object')"
      ]
     },
     "execution_count": 6,
     "metadata": {},
     "output_type": "execute_result"
    }
   ],
   "source": [
    "Course.columns"
   ]
  },
  {
   "cell_type": "code",
   "execution_count": 7,
   "id": "ab20aec1",
   "metadata": {},
   "outputs": [
    {
     "name": "stdout",
     "output_type": "stream",
     "text": [
      "<class 'pandas.core.frame.DataFrame'>\n",
      "RangeIndex: 9447 entries, 0 to 9446\n",
      "Data columns (total 20 columns):\n",
      " #   Column                        Non-Null Count  Dtype  \n",
      "---  ------                        --------------  -----  \n",
      " 0   id                            9447 non-null   int64  \n",
      " 1   title                         9447 non-null   object \n",
      " 2   url                           9447 non-null   object \n",
      " 3   is_paid                       9447 non-null   bool   \n",
      " 4   num_subscribers               9447 non-null   int64  \n",
      " 5   avg_rating                    9447 non-null   float64\n",
      " 6   avg_rating_recent             9447 non-null   float64\n",
      " 7   rating                        9447 non-null   float64\n",
      " 8   num_reviews                   9447 non-null   int64  \n",
      " 9   is_wishlisted                 9447 non-null   bool   \n",
      " 10  num_published_lectures        9447 non-null   int64  \n",
      " 11  num_published_practice_tests  9447 non-null   int64  \n",
      " 12  created                       9447 non-null   object \n",
      " 13  published_time                9447 non-null   object \n",
      " 14  discount_price__amount        8937 non-null   float64\n",
      " 15  discount_price__currency      8937 non-null   object \n",
      " 16  discount_price__price_string  8937 non-null   object \n",
      " 17  price_detail__amount          9447 non-null   int64  \n",
      " 18  price_detail__currency        9447 non-null   object \n",
      " 19  price_detail__price_string    9447 non-null   object \n",
      "dtypes: bool(2), float64(4), int64(6), object(8)\n",
      "memory usage: 1.3+ MB\n"
     ]
    }
   ],
   "source": [
    "Course.info()"
   ]
  },
  {
   "cell_type": "code",
   "execution_count": 8,
   "id": "d722c0ab",
   "metadata": {},
   "outputs": [
    {
     "data": {
      "text/plain": [
       "id                                0\n",
       "title                             0\n",
       "url                               0\n",
       "is_paid                           0\n",
       "num_subscribers                   0\n",
       "avg_rating                        0\n",
       "avg_rating_recent                 0\n",
       "rating                            0\n",
       "num_reviews                       0\n",
       "is_wishlisted                     0\n",
       "num_published_lectures            0\n",
       "num_published_practice_tests      0\n",
       "created                           0\n",
       "published_time                    0\n",
       "discount_price__amount          510\n",
       "discount_price__currency        510\n",
       "discount_price__price_string    510\n",
       "price_detail__amount              0\n",
       "price_detail__currency            0\n",
       "price_detail__price_string        0\n",
       "dtype: int64"
      ]
     },
     "execution_count": 8,
     "metadata": {},
     "output_type": "execute_result"
    }
   ],
   "source": [
    "Course.isnull().sum()"
   ]
  },
  {
   "cell_type": "code",
   "execution_count": 9,
   "id": "6f27b7a6",
   "metadata": {},
   "outputs": [
    {
     "data": {
      "text/plain": [
       "Text(0.5, 1.0, 'Getting the Missing Values by Heat Map')"
      ]
     },
     "execution_count": 9,
     "metadata": {},
     "output_type": "execute_result"
    },
    {
     "data": {
      "image/png": "[encoded data removed]",
      "text/plain": [
       "<Figure size 1080x504 with 2 Axes>"
      ]
     },
     "metadata": {
      "needs_background": "light"
     },
     "output_type": "display_data"
    }
   ],
   "source": [
    "plt.figure(figsize=(15,7))\n",
    "sns.heatmap(Course.isnull(), yticklabels=False)\n",
    "#print('Getting the Missing Values by Heat Map')\n",
    "plt.title('Getting the Missing Values by Heat Map')"
   ]
  },
  {
   "cell_type": "code",
   "execution_count": 10,
   "id": "ab1b7068",
   "metadata": {},
   "outputs": [
    {
     "data": {
      "text/plain": [
       "False    9447\n",
       "Name: is_wishlisted, dtype: int64"
      ]
     },
     "execution_count": 10,
     "metadata": {},
     "output_type": "execute_result"
    }
   ],
   "source": [
    "Course[\"is_wishlisted\"].value_counts()"
   ]
  },
  {
   "cell_type": "code",
   "execution_count": 11,
   "id": "4683b14a",
   "metadata": {},
   "outputs": [
    {
     "data": {
      "text/plain": [
       "True    9447\n",
       "Name: is_paid, dtype: int64"
      ]
     },
     "execution_count": 11,
     "metadata": {},
     "output_type": "execute_result"
    }
   ],
   "source": [
    "Course[\"is_paid\"].value_counts()"
   ]
  },
  {
   "cell_type": "code",
   "execution_count": 12,
   "id": "0abb1a05",
   "metadata": {},
   "outputs": [
    {
     "data": {
      "text/plain": [
       "9424"
      ]
     },
     "execution_count": 12,
     "metadata": {},
     "output_type": "execute_result"
    }
   ],
   "source": [
    "Course[\"title\"].nunique()"
   ]
  },
  {
   "cell_type": "markdown",
   "id": "91a98d05",
   "metadata": {},
   "source": [
    "### Cleaning the Data"
   ]
  },
  {
   "cell_type": "code",
   "execution_count": 13,
   "id": "0087e86a",
   "metadata": {},
   "outputs": [],
   "source": [
    "Course.drop(['url', 'avg_rating', 'avg_rating_recent', 'discount_price__currency', 'discount_price__price_string', 'price_detail__price_string', 'price_detail__currency'],axis=1, inplace= True)"
   ]
  },
  {
   "cell_type": "code",
   "execution_count": 14,
   "id": "40e7d795",
   "metadata": {},
   "outputs": [
    {
     "data": {
      "text/html": [
       "<div>\n",
       "<style scoped>\n",
       "    .dataframe tbody tr th:only-of-type {\n",
       "        vertical-align: middle;\n",
       "    }\n",
       "\n",
       "    .dataframe tbody tr th {\n",
       "        vertical-align: top;\n",
       "    }\n",
       "\n",
       "    .dataframe thead th {\n",
       "        text-align: right;\n",
       "    }\n",
       "</style>\n",
       "<table border=\"1\" class=\"dataframe\">\n",
       "  <thead>\n",
       "    <tr style=\"text-align: right;\">\n",
       "      <th></th>\n",
       "      <th>id</th>\n",
       "      <th>title</th>\n",
       "      <th>is_paid</th>\n",
       "      <th>num_subscribers</th>\n",
       "      <th>rating</th>\n",
       "      <th>num_reviews</th>\n",
       "      <th>is_wishlisted</th>\n",
       "      <th>num_published_lectures</th>\n",
       "      <th>num_published_practice_tests</th>\n",
       "      <th>created</th>\n",
       "      <th>published_time</th>\n",
       "      <th>discount_price__amount</th>\n",
       "      <th>price_detail__amount</th>\n",
       "    </tr>\n",
       "  </thead>\n",
       "  <tbody>\n",
       "    <tr>\n",
       "      <th>0</th>\n",
       "      <td>762616</td>\n",
       "      <td>The Complete SQL Bootcamp 2020: Go from Zero t...</td>\n",
       "      <td>True</td>\n",
       "      <td>295509</td>\n",
       "      <td>4.67874</td>\n",
       "      <td>78006</td>\n",
       "      <td>False</td>\n",
       "      <td>84</td>\n",
       "      <td>0</td>\n",
       "      <td>2016-02-14T22:57:48Z</td>\n",
       "      <td>2016-04-06T05:16:11Z</td>\n",
       "      <td>455.0</td>\n",
       "      <td>8640</td>\n",
       "    </tr>\n",
       "    <tr>\n",
       "      <th>1</th>\n",
       "      <td>937678</td>\n",
       "      <td>Tableau 2020 A-Z: Hands-On Tableau Training fo...</td>\n",
       "      <td>True</td>\n",
       "      <td>209070</td>\n",
       "      <td>4.60015</td>\n",
       "      <td>54581</td>\n",
       "      <td>False</td>\n",
       "      <td>78</td>\n",
       "      <td>0</td>\n",
       "      <td>2016-08-22T12:10:18Z</td>\n",
       "      <td>2016-08-23T16:59:49Z</td>\n",
       "      <td>455.0</td>\n",
       "      <td>8640</td>\n",
       "    </tr>\n",
       "    <tr>\n",
       "      <th>2</th>\n",
       "      <td>1361790</td>\n",
       "      <td>PMP Exam Prep Seminar -  PMBOK Guide 6</td>\n",
       "      <td>True</td>\n",
       "      <td>155282</td>\n",
       "      <td>4.59326</td>\n",
       "      <td>52653</td>\n",
       "      <td>False</td>\n",
       "      <td>292</td>\n",
       "      <td>2</td>\n",
       "      <td>2017-09-26T16:32:48Z</td>\n",
       "      <td>2017-11-14T23:58:14Z</td>\n",
       "      <td>455.0</td>\n",
       "      <td>8640</td>\n",
       "    </tr>\n",
       "    <tr>\n",
       "      <th>3</th>\n",
       "      <td>648826</td>\n",
       "      <td>The Complete Financial Analyst Course 2020</td>\n",
       "      <td>True</td>\n",
       "      <td>245860</td>\n",
       "      <td>4.53772</td>\n",
       "      <td>46447</td>\n",
       "      <td>False</td>\n",
       "      <td>338</td>\n",
       "      <td>0</td>\n",
       "      <td>2015-10-23T13:34:35Z</td>\n",
       "      <td>2016-01-21T01:38:48Z</td>\n",
       "      <td>455.0</td>\n",
       "      <td>8640</td>\n",
       "    </tr>\n",
       "    <tr>\n",
       "      <th>4</th>\n",
       "      <td>637930</td>\n",
       "      <td>An Entire MBA in 1 Course:Award Winning Busine...</td>\n",
       "      <td>True</td>\n",
       "      <td>374836</td>\n",
       "      <td>4.47173</td>\n",
       "      <td>41630</td>\n",
       "      <td>False</td>\n",
       "      <td>83</td>\n",
       "      <td>0</td>\n",
       "      <td>2015-10-12T06:39:46Z</td>\n",
       "      <td>2016-01-11T21:39:33Z</td>\n",
       "      <td>455.0</td>\n",
       "      <td>8640</td>\n",
       "    </tr>\n",
       "    <tr>\n",
       "      <th>...</th>\n",
       "      <td>...</td>\n",
       "      <td>...</td>\n",
       "      <td>...</td>\n",
       "      <td>...</td>\n",
       "      <td>...</td>\n",
       "      <td>...</td>\n",
       "      <td>...</td>\n",
       "      <td>...</td>\n",
       "      <td>...</td>\n",
       "      <td>...</td>\n",
       "      <td>...</td>\n",
       "      <td>...</td>\n",
       "      <td>...</td>\n",
       "    </tr>\n",
       "    <tr>\n",
       "      <th>9442</th>\n",
       "      <td>1934910</td>\n",
       "      <td>Simple Value Investing Guide With Proven Methods</td>\n",
       "      <td>True</td>\n",
       "      <td>1129</td>\n",
       "      <td>3.43520</td>\n",
       "      <td>3</td>\n",
       "      <td>False</td>\n",
       "      <td>35</td>\n",
       "      <td>0</td>\n",
       "      <td>2018-09-27T04:37:00Z</td>\n",
       "      <td>2018-10-31T22:58:12Z</td>\n",
       "      <td>455.0</td>\n",
       "      <td>8640</td>\n",
       "    </tr>\n",
       "    <tr>\n",
       "      <th>9443</th>\n",
       "      <td>2057175</td>\n",
       "      <td>Effectively Optimizing Your Recruitment Process</td>\n",
       "      <td>True</td>\n",
       "      <td>9</td>\n",
       "      <td>2.16014</td>\n",
       "      <td>3</td>\n",
       "      <td>False</td>\n",
       "      <td>26</td>\n",
       "      <td>0</td>\n",
       "      <td>2018-11-29T13:39:30Z</td>\n",
       "      <td>2018-12-04T02:13:17Z</td>\n",
       "      <td>455.0</td>\n",
       "      <td>1280</td>\n",
       "    </tr>\n",
       "    <tr>\n",
       "      <th>9444</th>\n",
       "      <td>1964000</td>\n",
       "      <td>Leadership Development:Ready To Use Tools to l...</td>\n",
       "      <td>True</td>\n",
       "      <td>1017</td>\n",
       "      <td>3.88844</td>\n",
       "      <td>3</td>\n",
       "      <td>False</td>\n",
       "      <td>5</td>\n",
       "      <td>0</td>\n",
       "      <td>2018-10-13T10:03:33Z</td>\n",
       "      <td>2018-10-27T21:50:36Z</td>\n",
       "      <td>455.0</td>\n",
       "      <td>6400</td>\n",
       "    </tr>\n",
       "    <tr>\n",
       "      <th>9445</th>\n",
       "      <td>2769588</td>\n",
       "      <td>Business Efficiency: How To Increase Workplace...</td>\n",
       "      <td>True</td>\n",
       "      <td>1716</td>\n",
       "      <td>3.52632</td>\n",
       "      <td>3</td>\n",
       "      <td>False</td>\n",
       "      <td>7</td>\n",
       "      <td>0</td>\n",
       "      <td>2020-01-20T18:10:33Z</td>\n",
       "      <td>2020-01-21T16:25:32Z</td>\n",
       "      <td>455.0</td>\n",
       "      <td>6400</td>\n",
       "    </tr>\n",
       "    <tr>\n",
       "      <th>9446</th>\n",
       "      <td>2801192</td>\n",
       "      <td>How to enter the US market?</td>\n",
       "      <td>True</td>\n",
       "      <td>14</td>\n",
       "      <td>5.00000</td>\n",
       "      <td>3</td>\n",
       "      <td>False</td>\n",
       "      <td>5</td>\n",
       "      <td>0</td>\n",
       "      <td>2020-02-07T06:16:29Z</td>\n",
       "      <td>2020-02-11T22:10:35Z</td>\n",
       "      <td>455.0</td>\n",
       "      <td>6400</td>\n",
       "    </tr>\n",
       "  </tbody>\n",
       "</table>\n",
       "<p>9447 rows × 13 columns</p>\n",
       "</div>"
      ],
      "text/plain": [
       "           id                                              title  is_paid  \\\n",
       "0      762616  The Complete SQL Bootcamp 2020: Go from Zero t...     True   \n",
       "1      937678  Tableau 2020 A-Z: Hands-On Tableau Training fo...     True   \n",
       "2     1361790             PMP Exam Prep Seminar -  PMBOK Guide 6     True   \n",
       "3      648826         The Complete Financial Analyst Course 2020     True   \n",
       "4      637930  An Entire MBA in 1 Course:Award Winning Busine...     True   \n",
       "...       ...                                                ...      ...   \n",
       "9442  1934910   Simple Value Investing Guide With Proven Methods     True   \n",
       "9443  2057175    Effectively Optimizing Your Recruitment Process     True   \n",
       "9444  1964000  Leadership Development:Ready To Use Tools to l...     True   \n",
       "9445  2769588  Business Efficiency: How To Increase Workplace...     True   \n",
       "9446  2801192                        How to enter the US market?     True   \n",
       "\n",
       "      num_subscribers   rating  num_reviews  is_wishlisted  \\\n",
       "0              295509  4.67874        78006          False   \n",
       "1              209070  4.60015        54581          False   \n",
       "2              155282  4.59326        52653          False   \n",
       "3              245860  4.53772        46447          False   \n",
       "4              374836  4.47173        41630          False   \n",
       "...               ...      ...          ...            ...   \n",
       "9442             1129  3.43520            3          False   \n",
       "9443                9  2.16014            3          False   \n",
       "9444             1017  3.88844            3          False   \n",
       "9445             1716  3.52632            3          False   \n",
       "9446               14  5.00000            3          False   \n",
       "\n",
       "      num_published_lectures  num_published_practice_tests  \\\n",
       "0                         84                             0   \n",
       "1                         78                             0   \n",
       "2                        292                             2   \n",
       "3                        338                             0   \n",
       "4                         83                             0   \n",
       "...                      ...                           ...   \n",
       "9442                      35                             0   \n",
       "9443                      26                             0   \n",
       "9444                       5                             0   \n",
       "9445                       7                             0   \n",
       "9446                       5                             0   \n",
       "\n",
       "                   created        published_time  discount_price__amount  \\\n",
       "0     2016-02-14T22:57:48Z  2016-04-06T05:16:11Z                   455.0   \n",
       "1     2016-08-22T12:10:18Z  2016-08-23T16:59:49Z                   455.0   \n",
       "2     2017-09-26T16:32:48Z  2017-11-14T23:58:14Z                   455.0   \n",
       "3     2015-10-23T13:34:35Z  2016-01-21T01:38:48Z                   455.0   \n",
       "4     2015-10-12T06:39:46Z  2016-01-11T21:39:33Z                   455.0   \n",
       "...                    ...                   ...                     ...   \n",
       "9442  2018-09-27T04:37:00Z  2018-10-31T22:58:12Z                   455.0   \n",
       "9443  2018-11-29T13:39:30Z  2018-12-04T02:13:17Z                   455.0   \n",
       "9444  2018-10-13T10:03:33Z  2018-10-27T21:50:36Z                   455.0   \n",
       "9445  2020-01-20T18:10:33Z  2020-01-21T16:25:32Z                   455.0   \n",
       "9446  2020-02-07T06:16:29Z  2020-02-11T22:10:35Z                   455.0   \n",
       "\n",
       "      price_detail__amount  \n",
       "0                     8640  \n",
       "1                     8640  \n",
       "2                     8640  \n",
       "3                     8640  \n",
       "4                     8640  \n",
       "...                    ...  \n",
       "9442                  8640  \n",
       "9443                  1280  \n",
       "9444                  6400  \n",
       "9445                  6400  \n",
       "9446                  6400  \n",
       "\n",
       "[9447 rows x 13 columns]"
      ]
     },
     "execution_count": 14,
     "metadata": {},
     "output_type": "execute_result"
    }
   ],
   "source": [
    "Course"
   ]
  },
  {
   "cell_type": "code",
   "execution_count": 15,
   "id": "95877a3e",
   "metadata": {},
   "outputs": [
    {
     "data": {
      "text/plain": [
       "(9447, 13)"
      ]
     },
     "execution_count": 15,
     "metadata": {},
     "output_type": "execute_result"
    }
   ],
   "source": [
    "Course.shape"
   ]
  },
  {
   "cell_type": "code",
   "execution_count": 16,
   "id": "8ff8e6f4",
   "metadata": {},
   "outputs": [
    {
     "name": "stdout",
     "output_type": "stream",
     "text": [
      "<class 'pandas.core.frame.DataFrame'>\n",
      "RangeIndex: 9447 entries, 0 to 9446\n",
      "Data columns (total 13 columns):\n",
      " #   Column                        Non-Null Count  Dtype  \n",
      "---  ------                        --------------  -----  \n",
      " 0   id                            9447 non-null   int64  \n",
      " 1   title                         9447 non-null   object \n",
      " 2   is_paid                       9447 non-null   bool   \n",
      " 3   num_subscribers               9447 non-null   int64  \n",
      " 4   rating                        9447 non-null   float64\n",
      " 5   num_reviews                   9447 non-null   int64  \n",
      " 6   is_wishlisted                 9447 non-null   bool   \n",
      " 7   num_published_lectures        9447 non-null   int64  \n",
      " 8   num_published_practice_tests  9447 non-null   int64  \n",
      " 9   created                       9447 non-null   object \n",
      " 10  published_time                9447 non-null   object \n",
      " 11  discount_price__amount        8937 non-null   float64\n",
      " 12  price_detail__amount          9447 non-null   int64  \n",
      "dtypes: bool(2), float64(2), int64(6), object(3)\n",
      "memory usage: 830.4+ KB\n"
     ]
    }
   ],
   "source": [
    "Course.info()"
   ]
  },
  {
   "cell_type": "code",
   "execution_count": 17,
   "id": "e7eca708",
   "metadata": {},
   "outputs": [],
   "source": [
    "Course.fillna(value=Course['discount_price__amount'].mean(),inplace = True)"
   ]
  },
  {
   "cell_type": "code",
   "execution_count": 18,
   "id": "103af1fe",
   "metadata": {},
   "outputs": [
    {
     "data": {
      "text/plain": [
       "id                              0\n",
       "title                           0\n",
       "is_paid                         0\n",
       "num_subscribers                 0\n",
       "rating                          0\n",
       "num_reviews                     0\n",
       "is_wishlisted                   0\n",
       "num_published_lectures          0\n",
       "num_published_practice_tests    0\n",
       "created                         0\n",
       "published_time                  0\n",
       "discount_price__amount          0\n",
       "price_detail__amount            0\n",
       "dtype: int64"
      ]
     },
     "execution_count": 18,
     "metadata": {},
     "output_type": "execute_result"
    }
   ],
   "source": [
    "Course.isnull().sum()"
   ]
  },
  {
   "cell_type": "code",
   "execution_count": 19,
   "id": "56b47c42",
   "metadata": {},
   "outputs": [
    {
     "data": {
      "text/plain": [
       "0       2016-02-14T22:57:48Z\n",
       "1       2016-08-22T12:10:18Z\n",
       "2       2017-09-26T16:32:48Z\n",
       "3       2015-10-23T13:34:35Z\n",
       "4       2015-10-12T06:39:46Z\n",
       "                ...         \n",
       "9442    2018-09-27T04:37:00Z\n",
       "9443    2018-11-29T13:39:30Z\n",
       "9444    2018-10-13T10:03:33Z\n",
       "9445    2020-01-20T18:10:33Z\n",
       "9446    2020-02-07T06:16:29Z\n",
       "Name: created, Length: 9447, dtype: object"
      ]
     },
     "execution_count": 19,
     "metadata": {},
     "output_type": "execute_result"
    }
   ],
   "source": [
    "Course.created"
   ]
  },
  {
   "cell_type": "code",
   "execution_count": 20,
   "id": "f30d8213",
   "metadata": {},
   "outputs": [
    {
     "data": {
      "text/plain": [
       "pandas.core.series.Series"
      ]
     },
     "execution_count": 20,
     "metadata": {},
     "output_type": "execute_result"
    }
   ],
   "source": [
    "type(Course['created'])"
   ]
  },
  {
   "cell_type": "markdown",
   "id": "78952c33",
   "metadata": {},
   "source": [
    "We can't apply datetime function in series data type So, we need to change it in datetime function."
   ]
  },
  {
   "cell_type": "code",
   "execution_count": 21,
   "id": "6f26bf53",
   "metadata": {},
   "outputs": [],
   "source": [
    "# Converting created column to datetime\n",
    "Course['created'] = pd.to_datetime(Course['created'])\n",
    "Course['created_date'] = Course['created'].dt.date                                   "
   ]
  },
  {
   "cell_type": "code",
   "execution_count": 22,
   "id": "3761d90b",
   "metadata": {},
   "outputs": [
    {
     "data": {
      "text/plain": [
       "0       2016-02-14\n",
       "1       2016-08-22\n",
       "2       2017-09-26\n",
       "3       2015-10-23\n",
       "4       2015-10-12\n",
       "           ...    \n",
       "9442    2018-09-27\n",
       "9443    2018-11-29\n",
       "9444    2018-10-13\n",
       "9445    2020-01-20\n",
       "9446    2020-02-07\n",
       "Name: created_date, Length: 9447, dtype: object"
      ]
     },
     "execution_count": 22,
     "metadata": {},
     "output_type": "execute_result"
    }
   ],
   "source": [
    "Course.created_date"
   ]
  },
  {
   "cell_type": "code",
   "execution_count": 23,
   "id": "03b86d70",
   "metadata": {},
   "outputs": [],
   "source": [
    "Course['year'] = pd.DatetimeIndex(Course.created_date).year\n",
    "Course['month'] = pd.DatetimeIndex(Course.created_date).month\n",
    "Course['day'] = pd.DatetimeIndex(Course.created_date).day"
   ]
  },
  {
   "cell_type": "code",
   "execution_count": 24,
   "id": "4e9365a5",
   "metadata": {},
   "outputs": [
    {
     "data": {
      "text/html": [
       "<div>\n",
       "<style scoped>\n",
       "    .dataframe tbody tr th:only-of-type {\n",
       "        vertical-align: middle;\n",
       "    }\n",
       "\n",
       "    .dataframe tbody tr th {\n",
       "        vertical-align: top;\n",
       "    }\n",
       "\n",
       "    .dataframe thead th {\n",
       "        text-align: right;\n",
       "    }\n",
       "</style>\n",
       "<table border=\"1\" class=\"dataframe\">\n",
       "  <thead>\n",
       "    <tr style=\"text-align: right;\">\n",
       "      <th></th>\n",
       "      <th>year</th>\n",
       "      <th>month</th>\n",
       "      <th>day</th>\n",
       "    </tr>\n",
       "  </thead>\n",
       "  <tbody>\n",
       "    <tr>\n",
       "      <th>0</th>\n",
       "      <td>2016</td>\n",
       "      <td>2</td>\n",
       "      <td>14</td>\n",
       "    </tr>\n",
       "    <tr>\n",
       "      <th>1</th>\n",
       "      <td>2016</td>\n",
       "      <td>8</td>\n",
       "      <td>22</td>\n",
       "    </tr>\n",
       "    <tr>\n",
       "      <th>2</th>\n",
       "      <td>2017</td>\n",
       "      <td>9</td>\n",
       "      <td>26</td>\n",
       "    </tr>\n",
       "    <tr>\n",
       "      <th>3</th>\n",
       "      <td>2015</td>\n",
       "      <td>10</td>\n",
       "      <td>23</td>\n",
       "    </tr>\n",
       "    <tr>\n",
       "      <th>4</th>\n",
       "      <td>2015</td>\n",
       "      <td>10</td>\n",
       "      <td>12</td>\n",
       "    </tr>\n",
       "    <tr>\n",
       "      <th>...</th>\n",
       "      <td>...</td>\n",
       "      <td>...</td>\n",
       "      <td>...</td>\n",
       "    </tr>\n",
       "    <tr>\n",
       "      <th>9442</th>\n",
       "      <td>2018</td>\n",
       "      <td>9</td>\n",
       "      <td>27</td>\n",
       "    </tr>\n",
       "    <tr>\n",
       "      <th>9443</th>\n",
       "      <td>2018</td>\n",
       "      <td>11</td>\n",
       "      <td>29</td>\n",
       "    </tr>\n",
       "    <tr>\n",
       "      <th>9444</th>\n",
       "      <td>2018</td>\n",
       "      <td>10</td>\n",
       "      <td>13</td>\n",
       "    </tr>\n",
       "    <tr>\n",
       "      <th>9445</th>\n",
       "      <td>2020</td>\n",
       "      <td>1</td>\n",
       "      <td>20</td>\n",
       "    </tr>\n",
       "    <tr>\n",
       "      <th>9446</th>\n",
       "      <td>2020</td>\n",
       "      <td>2</td>\n",
       "      <td>7</td>\n",
       "    </tr>\n",
       "  </tbody>\n",
       "</table>\n",
       "<p>9447 rows × 3 columns</p>\n",
       "</div>"
      ],
      "text/plain": [
       "      year  month  day\n",
       "0     2016      2   14\n",
       "1     2016      8   22\n",
       "2     2017      9   26\n",
       "3     2015     10   23\n",
       "4     2015     10   12\n",
       "...    ...    ...  ...\n",
       "9442  2018      9   27\n",
       "9443  2018     11   29\n",
       "9444  2018     10   13\n",
       "9445  2020      1   20\n",
       "9446  2020      2    7\n",
       "\n",
       "[9447 rows x 3 columns]"
      ]
     },
     "execution_count": 24,
     "metadata": {},
     "output_type": "execute_result"
    }
   ],
   "source": [
    "Course[['year', 'month', 'day']]"
   ]
  },
  {
   "cell_type": "code",
   "execution_count": 25,
   "id": "ff164f46",
   "metadata": {},
   "outputs": [
    {
     "data": {
      "text/html": [
       "<div>\n",
       "<style scoped>\n",
       "    .dataframe tbody tr th:only-of-type {\n",
       "        vertical-align: middle;\n",
       "    }\n",
       "\n",
       "    .dataframe tbody tr th {\n",
       "        vertical-align: top;\n",
       "    }\n",
       "\n",
       "    .dataframe thead th {\n",
       "        text-align: right;\n",
       "    }\n",
       "</style>\n",
       "<table border=\"1\" class=\"dataframe\">\n",
       "  <thead>\n",
       "    <tr style=\"text-align: right;\">\n",
       "      <th></th>\n",
       "      <th>id</th>\n",
       "      <th>title</th>\n",
       "      <th>is_paid</th>\n",
       "      <th>num_subscribers</th>\n",
       "      <th>rating</th>\n",
       "      <th>num_reviews</th>\n",
       "      <th>is_wishlisted</th>\n",
       "      <th>num_published_lectures</th>\n",
       "      <th>num_published_practice_tests</th>\n",
       "      <th>created</th>\n",
       "      <th>published_time</th>\n",
       "      <th>discount_price__amount</th>\n",
       "      <th>price_detail__amount</th>\n",
       "      <th>created_date</th>\n",
       "      <th>year</th>\n",
       "      <th>month</th>\n",
       "      <th>day</th>\n",
       "    </tr>\n",
       "  </thead>\n",
       "  <tbody>\n",
       "    <tr>\n",
       "      <th>0</th>\n",
       "      <td>762616</td>\n",
       "      <td>The Complete SQL Bootcamp 2020: Go from Zero t...</td>\n",
       "      <td>True</td>\n",
       "      <td>295509</td>\n",
       "      <td>4.67874</td>\n",
       "      <td>78006</td>\n",
       "      <td>False</td>\n",
       "      <td>84</td>\n",
       "      <td>0</td>\n",
       "      <td>2016-02-14 22:57:48+00:00</td>\n",
       "      <td>2016-04-06T05:16:11Z</td>\n",
       "      <td>455.0</td>\n",
       "      <td>8640</td>\n",
       "      <td>2016-02-14</td>\n",
       "      <td>2016</td>\n",
       "      <td>2</td>\n",
       "      <td>14</td>\n",
       "    </tr>\n",
       "    <tr>\n",
       "      <th>1</th>\n",
       "      <td>937678</td>\n",
       "      <td>Tableau 2020 A-Z: Hands-On Tableau Training fo...</td>\n",
       "      <td>True</td>\n",
       "      <td>209070</td>\n",
       "      <td>4.60015</td>\n",
       "      <td>54581</td>\n",
       "      <td>False</td>\n",
       "      <td>78</td>\n",
       "      <td>0</td>\n",
       "      <td>2016-08-22 12:10:18+00:00</td>\n",
       "      <td>2016-08-23T16:59:49Z</td>\n",
       "      <td>455.0</td>\n",
       "      <td>8640</td>\n",
       "      <td>2016-08-22</td>\n",
       "      <td>2016</td>\n",
       "      <td>8</td>\n",
       "      <td>22</td>\n",
       "    </tr>\n",
       "    <tr>\n",
       "      <th>2</th>\n",
       "      <td>1361790</td>\n",
       "      <td>PMP Exam Prep Seminar -  PMBOK Guide 6</td>\n",
       "      <td>True</td>\n",
       "      <td>155282</td>\n",
       "      <td>4.59326</td>\n",
       "      <td>52653</td>\n",
       "      <td>False</td>\n",
       "      <td>292</td>\n",
       "      <td>2</td>\n",
       "      <td>2017-09-26 16:32:48+00:00</td>\n",
       "      <td>2017-11-14T23:58:14Z</td>\n",
       "      <td>455.0</td>\n",
       "      <td>8640</td>\n",
       "      <td>2017-09-26</td>\n",
       "      <td>2017</td>\n",
       "      <td>9</td>\n",
       "      <td>26</td>\n",
       "    </tr>\n",
       "    <tr>\n",
       "      <th>3</th>\n",
       "      <td>648826</td>\n",
       "      <td>The Complete Financial Analyst Course 2020</td>\n",
       "      <td>True</td>\n",
       "      <td>245860</td>\n",
       "      <td>4.53772</td>\n",
       "      <td>46447</td>\n",
       "      <td>False</td>\n",
       "      <td>338</td>\n",
       "      <td>0</td>\n",
       "      <td>2015-10-23 13:34:35+00:00</td>\n",
       "      <td>2016-01-21T01:38:48Z</td>\n",
       "      <td>455.0</td>\n",
       "      <td>8640</td>\n",
       "      <td>2015-10-23</td>\n",
       "      <td>2015</td>\n",
       "      <td>10</td>\n",
       "      <td>23</td>\n",
       "    </tr>\n",
       "    <tr>\n",
       "      <th>4</th>\n",
       "      <td>637930</td>\n",
       "      <td>An Entire MBA in 1 Course:Award Winning Busine...</td>\n",
       "      <td>True</td>\n",
       "      <td>374836</td>\n",
       "      <td>4.47173</td>\n",
       "      <td>41630</td>\n",
       "      <td>False</td>\n",
       "      <td>83</td>\n",
       "      <td>0</td>\n",
       "      <td>2015-10-12 06:39:46+00:00</td>\n",
       "      <td>2016-01-11T21:39:33Z</td>\n",
       "      <td>455.0</td>\n",
       "      <td>8640</td>\n",
       "      <td>2015-10-12</td>\n",
       "      <td>2015</td>\n",
       "      <td>10</td>\n",
       "      <td>12</td>\n",
       "    </tr>\n",
       "  </tbody>\n",
       "</table>\n",
       "</div>"
      ],
      "text/plain": [
       "        id                                              title  is_paid  \\\n",
       "0   762616  The Complete SQL Bootcamp 2020: Go from Zero t...     True   \n",
       "1   937678  Tableau 2020 A-Z: Hands-On Tableau Training fo...     True   \n",
       "2  1361790             PMP Exam Prep Seminar -  PMBOK Guide 6     True   \n",
       "3   648826         The Complete Financial Analyst Course 2020     True   \n",
       "4   637930  An Entire MBA in 1 Course:Award Winning Busine...     True   \n",
       "\n",
       "   num_subscribers   rating  num_reviews  is_wishlisted  \\\n",
       "0           295509  4.67874        78006          False   \n",
       "1           209070  4.60015        54581          False   \n",
       "2           155282  4.59326        52653          False   \n",
       "3           245860  4.53772        46447          False   \n",
       "4           374836  4.47173        41630          False   \n",
       "\n",
       "   num_published_lectures  num_published_practice_tests  \\\n",
       "0                      84                             0   \n",
       "1                      78                             0   \n",
       "2                     292                             2   \n",
       "3                     338                             0   \n",
       "4                      83                             0   \n",
       "\n",
       "                    created        published_time  discount_price__amount  \\\n",
       "0 2016-02-14 22:57:48+00:00  2016-04-06T05:16:11Z                   455.0   \n",
       "1 2016-08-22 12:10:18+00:00  2016-08-23T16:59:49Z                   455.0   \n",
       "2 2017-09-26 16:32:48+00:00  2017-11-14T23:58:14Z                   455.0   \n",
       "3 2015-10-23 13:34:35+00:00  2016-01-21T01:38:48Z                   455.0   \n",
       "4 2015-10-12 06:39:46+00:00  2016-01-11T21:39:33Z                   455.0   \n",
       "\n",
       "   price_detail__amount created_date  year  month  day  \n",
       "0                  8640   2016-02-14  2016      2   14  \n",
       "1                  8640   2016-08-22  2016      8   22  \n",
       "2                  8640   2017-09-26  2017      9   26  \n",
       "3                  8640   2015-10-23  2015     10   23  \n",
       "4                  8640   2015-10-12  2015     10   12  "
      ]
     },
     "execution_count": 25,
     "metadata": {},
     "output_type": "execute_result"
    }
   ],
   "source": [
    "Course.head(5)"
   ]
  },
  {
   "cell_type": "code",
   "execution_count": 26,
   "id": "7f6e9b3f",
   "metadata": {},
   "outputs": [],
   "source": [
    "Course.drop(['created'],axis=1, inplace= True)"
   ]
  },
  {
   "cell_type": "code",
   "execution_count": 27,
   "id": "8ce2bf08",
   "metadata": {},
   "outputs": [],
   "source": [
    "Course.to_excel(\"C:/Users/HP/Downloads/online_All_Business_p1_p626_new.xlsx\", index=False)"
   ]
  },
  {
   "cell_type": "markdown",
   "id": "ca493d4a",
   "metadata": {},
   "source": [
    "# Exploratory Data Analysis (EDA)"
   ]
  },
  {
   "cell_type": "markdown",
   "id": "6d63faf1",
   "metadata": {},
   "source": [
    "### **1. How many Courses in our Dataset are paid Course ?**"
   ]
  },
  {
   "cell_type": "code",
   "execution_count": 28,
   "id": "8b888048",
   "metadata": {},
   "outputs": [
    {
     "data": {
      "text/plain": [
       "Text(0.5, 1.0, 'Published lecture to price')"
      ]
     },
     "execution_count": 28,
     "metadata": {},
     "output_type": "execute_result"
    },
    {
     "data": {
      "image/png": "[encoded data removed]",
      "text/plain": [
       "<Figure size 360x504 with 1 Axes>"
      ]
     },
     "metadata": {
      "needs_background": "light"
     },
     "output_type": "display_data"
    }
   ],
   "source": [
    "plt.figure(figsize=(5, 7))\n",
    "sns.countplot(x=Course['is_paid'])\n",
    "plt.title('Published lecture to price')"
   ]
  },
  {
   "cell_type": "markdown",
   "id": "449ec36b",
   "metadata": {},
   "source": [
    "**In our Dataset all the Courses are Paid Course.**"
   ]
  },
  {
   "cell_type": "markdown",
   "id": "cf90f5a2",
   "metadata": {},
   "source": [
    "### **2. How many Courses are in Wishlist ?**"
   ]
  },
  {
   "cell_type": "code",
   "execution_count": 29,
   "id": "c85eb4a7",
   "metadata": {},
   "outputs": [
    {
     "data": {
      "text/plain": [
       "Text(0.5, 1.0, 'Courses in Wishlist')"
      ]
     },
     "execution_count": 29,
     "metadata": {},
     "output_type": "execute_result"
    },
    {
     "data": {
      "image/png": "[encoded data removed]",
      "text/plain": [
       "<Figure size 360x504 with 1 Axes>"
      ]
     },
     "metadata": {
      "needs_background": "light"
     },
     "output_type": "display_data"
    }
   ],
   "source": [
    "plt.figure(figsize=(5, 7))\n",
    "sns.countplot(x=Course['is_wishlisted'], color='grey')\n",
    "plt.title('Courses in Wishlist')"
   ]
  },
  {
   "cell_type": "markdown",
   "id": "a33e226e",
   "metadata": {},
   "source": [
    "**In our Dataset Every course has been purchased, no one is in the wish list.**"
   ]
  },
  {
   "cell_type": "markdown",
   "id": "3b91277b",
   "metadata": {},
   "source": [
    "### **3. Number of Unique Id's in our Dataset ?**"
   ]
  },
  {
   "cell_type": "code",
   "execution_count": 48,
   "id": "9779f95b",
   "metadata": {},
   "outputs": [
    {
     "data": {
      "text/plain": [
       "9447"
      ]
     },
     "execution_count": 48,
     "metadata": {},
     "output_type": "execute_result"
    }
   ],
   "source": [
    "len(pd.unique(Course['id']))"
   ]
  },
  {
   "cell_type": "markdown",
   "id": "648dd01b",
   "metadata": {},
   "source": [
    "### **4. Number of Unique Titles in our Dataset ?**"
   ]
  },
  {
   "cell_type": "code",
   "execution_count": 49,
   "id": "5f7264bb",
   "metadata": {},
   "outputs": [
    {
     "data": {
      "text/plain": [
       "9424"
      ]
     },
     "execution_count": 49,
     "metadata": {},
     "output_type": "execute_result"
    }
   ],
   "source": [
    "len(pd.unique(Course['title']))"
   ]
  },
  {
   "cell_type": "markdown",
   "id": "b5d53f08",
   "metadata": {},
   "source": [
    "### **5. Courses which are purchesed more than one time?**"
   ]
  },
  {
   "cell_type": "code",
   "execution_count": 60,
   "id": "c5ead70c",
   "metadata": {
    "scrolled": true
   },
   "outputs": [
    {
     "data": {
      "text/plain": [
       "Fundamentals of Accounting & Bookkeeping                        2\n",
       "PMP EXAM PREP-Project Management Professional FULL TRAINING     2\n",
       "Shopify Dropshipping - Scale to 7 figures with Clickfunnels!    2\n",
       "Project Management Fundamentals                                 2\n",
       "Product Management Fundamentals                                 2\n",
       "Interpreting Financial Statements                               2\n",
       "Shopify Dropshipping Masterclass                                2\n",
       "Learn Machine Learning From Scratch                             2\n",
       "How to Write a Business Plan                                    2\n",
       "Data Visualization with Tableau                                 2\n",
       "Become Earned Value Management (EVM) Expert                     2\n",
       "Introduction to Project Management                              2\n",
       "Introduction to Agile Project Management                        2\n",
       "Practice the IIBA CBAP Exam: 240 Quality Questions, 2020        2\n",
       "Leading Effective Meetings                                      2\n",
       "Cold Calling Mastery                                            2\n",
       "Business English                                                2\n",
       "Lean Six Sigma White Belt                                       2\n",
       "Sales Fundamentals                                              2\n",
       "How to Speak with Confidence                                    2\n",
       "Project Management Essentials                                   2\n",
       "Freelancer Masterclass                                          2\n",
       "Fundamentals of Change Management                               2\n",
       "Dashboards 101 - Using Metrics to Improve Performance           1\n",
       "Name: title, dtype: int64"
      ]
     },
     "execution_count": 60,
     "metadata": {},
     "output_type": "execute_result"
    }
   ],
   "source": [
    "Course[\"title\"].value_counts().head(24)"
   ]
  },
  {
   "cell_type": "markdown",
   "id": "3356357a",
   "metadata": {},
   "source": [
    "### **5. Top 10 High rated Courses ?**"
   ]
  },
  {
   "cell_type": "code",
   "execution_count": 32,
   "id": "d14a2593",
   "metadata": {},
   "outputs": [
    {
     "data": {
      "text/html": [
       "<div>\n",
       "<style scoped>\n",
       "    .dataframe tbody tr th:only-of-type {\n",
       "        vertical-align: middle;\n",
       "    }\n",
       "\n",
       "    .dataframe tbody tr th {\n",
       "        vertical-align: top;\n",
       "    }\n",
       "\n",
       "    .dataframe thead th {\n",
       "        text-align: right;\n",
       "    }\n",
       "</style>\n",
       "<table border=\"1\" class=\"dataframe\">\n",
       "  <thead>\n",
       "    <tr style=\"text-align: right;\">\n",
       "      <th></th>\n",
       "      <th>title</th>\n",
       "      <th>rating</th>\n",
       "    </tr>\n",
       "  </thead>\n",
       "  <tbody>\n",
       "    <tr>\n",
       "      <th>9446</th>\n",
       "      <td>How to enter the US market?</td>\n",
       "      <td>5.0</td>\n",
       "    </tr>\n",
       "    <tr>\n",
       "      <th>6821</th>\n",
       "      <td>Energizing Your Powerful Entrepreneurial Mindset</td>\n",
       "      <td>5.0</td>\n",
       "    </tr>\n",
       "    <tr>\n",
       "      <th>8924</th>\n",
       "      <td>The Science of Teams (TSoT) - Theory</td>\n",
       "      <td>5.0</td>\n",
       "    </tr>\n",
       "    <tr>\n",
       "      <th>8917</th>\n",
       "      <td>Create a Money Making Pitch for More Customers...</td>\n",
       "      <td>5.0</td>\n",
       "    </tr>\n",
       "    <tr>\n",
       "      <th>8890</th>\n",
       "      <td>Become a Student Investor</td>\n",
       "      <td>5.0</td>\n",
       "    </tr>\n",
       "    <tr>\n",
       "      <th>8881</th>\n",
       "      <td>Mastering Productivity For The Busy Professional</td>\n",
       "      <td>5.0</td>\n",
       "    </tr>\n",
       "    <tr>\n",
       "      <th>8878</th>\n",
       "      <td>3 Online Business / Side Hustle Ideas For Spor...</td>\n",
       "      <td>5.0</td>\n",
       "    </tr>\n",
       "    <tr>\n",
       "      <th>8872</th>\n",
       "      <td>Just Give me the Codes: Entry Level Python</td>\n",
       "      <td>5.0</td>\n",
       "    </tr>\n",
       "    <tr>\n",
       "      <th>8861</th>\n",
       "      <td>The Consulting Case Interview: Beginner to Expert</td>\n",
       "      <td>5.0</td>\n",
       "    </tr>\n",
       "    <tr>\n",
       "      <th>9140</th>\n",
       "      <td>Increase Your Profit by Understanding the Numbers</td>\n",
       "      <td>5.0</td>\n",
       "    </tr>\n",
       "  </tbody>\n",
       "</table>\n",
       "</div>"
      ],
      "text/plain": [
       "                                                  title  rating\n",
       "9446                        How to enter the US market?     5.0\n",
       "6821   Energizing Your Powerful Entrepreneurial Mindset     5.0\n",
       "8924               The Science of Teams (TSoT) - Theory     5.0\n",
       "8917  Create a Money Making Pitch for More Customers...     5.0\n",
       "8890                          Become a Student Investor     5.0\n",
       "8881  Mastering Productivity For The Busy Professional      5.0\n",
       "8878  3 Online Business / Side Hustle Ideas For Spor...     5.0\n",
       "8872         Just Give me the Codes: Entry Level Python     5.0\n",
       "8861  The Consulting Case Interview: Beginner to Expert     5.0\n",
       "9140  Increase Your Profit by Understanding the Numbers     5.0"
      ]
     },
     "execution_count": 32,
     "metadata": {},
     "output_type": "execute_result"
    }
   ],
   "source": [
    "top_rated = Course[['title', 'rating']].sort_values(by= 'rating',ascending = False).head(10)\n",
    "top_rated"
   ]
  },
  {
   "cell_type": "markdown",
   "id": "fcd7a4e4",
   "metadata": {},
   "source": [
    "### **6. Top 10 Reviewed Courses ?**"
   ]
  },
  {
   "cell_type": "code",
   "execution_count": 33,
   "id": "c3939ce5",
   "metadata": {},
   "outputs": [
    {
     "data": {
      "text/html": [
       "<div>\n",
       "<style scoped>\n",
       "    .dataframe tbody tr th:only-of-type {\n",
       "        vertical-align: middle;\n",
       "    }\n",
       "\n",
       "    .dataframe tbody tr th {\n",
       "        vertical-align: top;\n",
       "    }\n",
       "\n",
       "    .dataframe thead th {\n",
       "        text-align: right;\n",
       "    }\n",
       "</style>\n",
       "<table border=\"1\" class=\"dataframe\">\n",
       "  <thead>\n",
       "    <tr style=\"text-align: right;\">\n",
       "      <th></th>\n",
       "      <th>title</th>\n",
       "      <th>num_reviews</th>\n",
       "    </tr>\n",
       "  </thead>\n",
       "  <tbody>\n",
       "    <tr>\n",
       "      <th>0</th>\n",
       "      <td>The Complete SQL Bootcamp 2020: Go from Zero t...</td>\n",
       "      <td>78006</td>\n",
       "    </tr>\n",
       "    <tr>\n",
       "      <th>1</th>\n",
       "      <td>Tableau 2020 A-Z: Hands-On Tableau Training fo...</td>\n",
       "      <td>54581</td>\n",
       "    </tr>\n",
       "    <tr>\n",
       "      <th>2</th>\n",
       "      <td>PMP Exam Prep Seminar -  PMBOK Guide 6</td>\n",
       "      <td>52653</td>\n",
       "    </tr>\n",
       "    <tr>\n",
       "      <th>3</th>\n",
       "      <td>The Complete Financial Analyst Course 2020</td>\n",
       "      <td>46447</td>\n",
       "    </tr>\n",
       "    <tr>\n",
       "      <th>4</th>\n",
       "      <td>An Entire MBA in 1 Course:Award Winning Busine...</td>\n",
       "      <td>41630</td>\n",
       "    </tr>\n",
       "    <tr>\n",
       "      <th>5</th>\n",
       "      <td>Microsoft Power BI - A Complete Introduction [...</td>\n",
       "      <td>38093</td>\n",
       "    </tr>\n",
       "    <tr>\n",
       "      <th>6</th>\n",
       "      <td>Agile Crash Course: Agile Project Management; ...</td>\n",
       "      <td>30470</td>\n",
       "    </tr>\n",
       "    <tr>\n",
       "      <th>7</th>\n",
       "      <td>Beginner to Pro in Excel: Financial Modeling a...</td>\n",
       "      <td>28665</td>\n",
       "    </tr>\n",
       "    <tr>\n",
       "      <th>8</th>\n",
       "      <td>Become a Product Manager | Learn the Skills &amp; ...</td>\n",
       "      <td>27408</td>\n",
       "    </tr>\n",
       "    <tr>\n",
       "      <th>9</th>\n",
       "      <td>The Business Intelligence Analyst Course 2020</td>\n",
       "      <td>23906</td>\n",
       "    </tr>\n",
       "  </tbody>\n",
       "</table>\n",
       "</div>"
      ],
      "text/plain": [
       "                                               title  num_reviews\n",
       "0  The Complete SQL Bootcamp 2020: Go from Zero t...        78006\n",
       "1  Tableau 2020 A-Z: Hands-On Tableau Training fo...        54581\n",
       "2             PMP Exam Prep Seminar -  PMBOK Guide 6        52653\n",
       "3         The Complete Financial Analyst Course 2020        46447\n",
       "4  An Entire MBA in 1 Course:Award Winning Busine...        41630\n",
       "5  Microsoft Power BI - A Complete Introduction [...        38093\n",
       "6  Agile Crash Course: Agile Project Management; ...        30470\n",
       "7  Beginner to Pro in Excel: Financial Modeling a...        28665\n",
       "8  Become a Product Manager | Learn the Skills & ...        27408\n",
       "9      The Business Intelligence Analyst Course 2020        23906"
      ]
     },
     "execution_count": 33,
     "metadata": {},
     "output_type": "execute_result"
    }
   ],
   "source": [
    "top_reviews = Course[['title', 'num_reviews']].sort_values(by = 'num_reviews', ascending = False).head(10)\n",
    "top_reviews"
   ]
  },
  {
   "cell_type": "markdown",
   "id": "cf5ea821",
   "metadata": {},
   "source": [
    "* **The Complete SQL Bootcamp 2020** course has highest number of Reviews."
   ]
  },
  {
   "cell_type": "markdown",
   "id": "f8585fea",
   "metadata": {},
   "source": [
    "### **7. Top 10 high Rated Courses on the bases of Number Practical Test available ?**"
   ]
  },
  {
   "cell_type": "code",
   "execution_count": 34,
   "id": "de79bc8f",
   "metadata": {},
   "outputs": [
    {
     "data": {
      "text/html": [
       "<div>\n",
       "<style scoped>\n",
       "    .dataframe tbody tr th:only-of-type {\n",
       "        vertical-align: middle;\n",
       "    }\n",
       "\n",
       "    .dataframe tbody tr th {\n",
       "        vertical-align: top;\n",
       "    }\n",
       "\n",
       "    .dataframe thead th {\n",
       "        text-align: right;\n",
       "    }\n",
       "</style>\n",
       "<table border=\"1\" class=\"dataframe\">\n",
       "  <thead>\n",
       "    <tr style=\"text-align: right;\">\n",
       "      <th></th>\n",
       "      <th>title</th>\n",
       "      <th>num_published_practice_tests</th>\n",
       "      <th>rating</th>\n",
       "    </tr>\n",
       "  </thead>\n",
       "  <tbody>\n",
       "    <tr>\n",
       "      <th>8417</th>\n",
       "      <td>CPA 2020 Business Environment &amp; Concepts (BEC)...</td>\n",
       "      <td>6</td>\n",
       "      <td>5.00000</td>\n",
       "    </tr>\n",
       "    <tr>\n",
       "      <th>7727</th>\n",
       "      <td>Portfolio Management Professional - PfMP Pract...</td>\n",
       "      <td>6</td>\n",
       "      <td>4.93817</td>\n",
       "    </tr>\n",
       "    <tr>\n",
       "      <th>3381</th>\n",
       "      <td>Lean Six Sigma Black Belt Practice Tests</td>\n",
       "      <td>6</td>\n",
       "      <td>4.56219</td>\n",
       "    </tr>\n",
       "    <tr>\n",
       "      <th>6238</th>\n",
       "      <td>Pearl Qualified Professional | Estidama | 6 Pr...</td>\n",
       "      <td>6</td>\n",
       "      <td>4.55263</td>\n",
       "    </tr>\n",
       "    <tr>\n",
       "      <th>716</th>\n",
       "      <td>PRINCE2 Foundation Practice Certification Exam...</td>\n",
       "      <td>6</td>\n",
       "      <td>4.38882</td>\n",
       "    </tr>\n",
       "    <tr>\n",
       "      <th>5847</th>\n",
       "      <td>Level 4 Diploma - Ethical &amp; Responsible Sourci...</td>\n",
       "      <td>6</td>\n",
       "      <td>4.37687</td>\n",
       "    </tr>\n",
       "    <tr>\n",
       "      <th>8228</th>\n",
       "      <td>PMP Exam Scenario and knowledge Based Question...</td>\n",
       "      <td>6</td>\n",
       "      <td>4.34922</td>\n",
       "    </tr>\n",
       "    <tr>\n",
       "      <th>7431</th>\n",
       "      <td>Lean Manufacturing, Lean Operations: Learn thr...</td>\n",
       "      <td>6</td>\n",
       "      <td>4.32715</td>\n",
       "    </tr>\n",
       "    <tr>\n",
       "      <th>4455</th>\n",
       "      <td>Level 4 Diploma - Commercial Contracting (L4M3)</td>\n",
       "      <td>6</td>\n",
       "      <td>4.31352</td>\n",
       "    </tr>\n",
       "    <tr>\n",
       "      <th>8088</th>\n",
       "      <td>Project+ PK0-004 Practice Tests</td>\n",
       "      <td>6</td>\n",
       "      <td>4.26087</td>\n",
       "    </tr>\n",
       "  </tbody>\n",
       "</table>\n",
       "</div>"
      ],
      "text/plain": [
       "                                                  title  \\\n",
       "8417  CPA 2020 Business Environment & Concepts (BEC)...   \n",
       "7727  Portfolio Management Professional - PfMP Pract...   \n",
       "3381           Lean Six Sigma Black Belt Practice Tests   \n",
       "6238  Pearl Qualified Professional | Estidama | 6 Pr...   \n",
       "716   PRINCE2 Foundation Practice Certification Exam...   \n",
       "5847  Level 4 Diploma - Ethical & Responsible Sourci...   \n",
       "8228  PMP Exam Scenario and knowledge Based Question...   \n",
       "7431  Lean Manufacturing, Lean Operations: Learn thr...   \n",
       "4455    Level 4 Diploma - Commercial Contracting (L4M3)   \n",
       "8088                    Project+ PK0-004 Practice Tests   \n",
       "\n",
       "      num_published_practice_tests   rating  \n",
       "8417                             6  5.00000  \n",
       "7727                             6  4.93817  \n",
       "3381                             6  4.56219  \n",
       "6238                             6  4.55263  \n",
       "716                              6  4.38882  \n",
       "5847                             6  4.37687  \n",
       "8228                             6  4.34922  \n",
       "7431                             6  4.32715  \n",
       "4455                             6  4.31352  \n",
       "8088                             6  4.26087  "
      ]
     },
     "execution_count": 34,
     "metadata": {},
     "output_type": "execute_result"
    }
   ],
   "source": [
    "test = Course[['title', 'num_published_practice_tests', 'rating']].sort_values(by= ['num_published_practice_tests', 'rating'], ascending = False).head(10)\n",
    "test"
   ]
  },
  {
   "cell_type": "markdown",
   "id": "a45c2f98",
   "metadata": {},
   "source": [
    "* **CPA 2020 Business Environment & Concepts (BEC)** has highest rating on the basis of number of practical test available."
   ]
  },
  {
   "cell_type": "markdown",
   "id": "affaa1a9",
   "metadata": {},
   "source": [
    "### **8. Which Course has highest number of Subscribres ?**"
   ]
  },
  {
   "cell_type": "code",
   "execution_count": 35,
   "id": "51c31a41",
   "metadata": {},
   "outputs": [
    {
     "data": {
      "text/html": [
       "<div>\n",
       "<style scoped>\n",
       "    .dataframe tbody tr th:only-of-type {\n",
       "        vertical-align: middle;\n",
       "    }\n",
       "\n",
       "    .dataframe tbody tr th {\n",
       "        vertical-align: top;\n",
       "    }\n",
       "\n",
       "    .dataframe thead th {\n",
       "        text-align: right;\n",
       "    }\n",
       "</style>\n",
       "<table border=\"1\" class=\"dataframe\">\n",
       "  <thead>\n",
       "    <tr style=\"text-align: right;\">\n",
       "      <th></th>\n",
       "      <th>title</th>\n",
       "      <th>num_subscribers</th>\n",
       "    </tr>\n",
       "  </thead>\n",
       "  <tbody>\n",
       "    <tr>\n",
       "      <th>4</th>\n",
       "      <td>An Entire MBA in 1 Course:Award Winning Busine...</td>\n",
       "      <td>374836</td>\n",
       "    </tr>\n",
       "    <tr>\n",
       "      <th>0</th>\n",
       "      <td>The Complete SQL Bootcamp 2020: Go from Zero t...</td>\n",
       "      <td>295509</td>\n",
       "    </tr>\n",
       "    <tr>\n",
       "      <th>3</th>\n",
       "      <td>The Complete Financial Analyst Course 2020</td>\n",
       "      <td>245860</td>\n",
       "    </tr>\n",
       "    <tr>\n",
       "      <th>19</th>\n",
       "      <td>Deep Learning Prerequisites: The Numpy Stack i...</td>\n",
       "      <td>239309</td>\n",
       "    </tr>\n",
       "    <tr>\n",
       "      <th>1</th>\n",
       "      <td>Tableau 2020 A-Z: Hands-On Tableau Training fo...</td>\n",
       "      <td>209070</td>\n",
       "    </tr>\n",
       "    <tr>\n",
       "      <th>15</th>\n",
       "      <td>The Complete Financial Analyst Training &amp; Inve...</td>\n",
       "      <td>182002</td>\n",
       "    </tr>\n",
       "    <tr>\n",
       "      <th>35</th>\n",
       "      <td>The Complete Presentation and Public Speaking/...</td>\n",
       "      <td>158654</td>\n",
       "    </tr>\n",
       "    <tr>\n",
       "      <th>2</th>\n",
       "      <td>PMP Exam Prep Seminar -  PMBOK Guide 6</td>\n",
       "      <td>155282</td>\n",
       "    </tr>\n",
       "    <tr>\n",
       "      <th>22</th>\n",
       "      <td>Introduction to Finance, Accounting, Modeling ...</td>\n",
       "      <td>140676</td>\n",
       "    </tr>\n",
       "    <tr>\n",
       "      <th>7</th>\n",
       "      <td>Beginner to Pro in Excel: Financial Modeling a...</td>\n",
       "      <td>127680</td>\n",
       "    </tr>\n",
       "  </tbody>\n",
       "</table>\n",
       "</div>"
      ],
      "text/plain": [
       "                                                title  num_subscribers\n",
       "4   An Entire MBA in 1 Course:Award Winning Busine...           374836\n",
       "0   The Complete SQL Bootcamp 2020: Go from Zero t...           295509\n",
       "3          The Complete Financial Analyst Course 2020           245860\n",
       "19  Deep Learning Prerequisites: The Numpy Stack i...           239309\n",
       "1   Tableau 2020 A-Z: Hands-On Tableau Training fo...           209070\n",
       "15  The Complete Financial Analyst Training & Inve...           182002\n",
       "35  The Complete Presentation and Public Speaking/...           158654\n",
       "2              PMP Exam Prep Seminar -  PMBOK Guide 6           155282\n",
       "22  Introduction to Finance, Accounting, Modeling ...           140676\n",
       "7   Beginner to Pro in Excel: Financial Modeling a...           127680"
      ]
     },
     "execution_count": 35,
     "metadata": {},
     "output_type": "execute_result"
    }
   ],
   "source": [
    "top_Subscriber = Course[['title', 'num_subscribers']].sort_values(by = 'num_subscribers', ascending = False).head(10)\n",
    "top_Subscriber"
   ]
  },
  {
   "cell_type": "markdown",
   "id": "a7d222c3",
   "metadata": {},
   "source": [
    "* **An Entire MBA in 1 Course** has maximum Subscribers in Dataset."
   ]
  },
  {
   "cell_type": "markdown",
   "id": "324c650b",
   "metadata": {},
   "source": [
    "### **9. Maximum lectures are Published in which Course ?**"
   ]
  },
  {
   "cell_type": "code",
   "execution_count": 36,
   "id": "7ba8ec84",
   "metadata": {},
   "outputs": [
    {
     "data": {
      "text/html": [
       "<div>\n",
       "<style scoped>\n",
       "    .dataframe tbody tr th:only-of-type {\n",
       "        vertical-align: middle;\n",
       "    }\n",
       "\n",
       "    .dataframe tbody tr th {\n",
       "        vertical-align: top;\n",
       "    }\n",
       "\n",
       "    .dataframe thead th {\n",
       "        text-align: right;\n",
       "    }\n",
       "</style>\n",
       "<table border=\"1\" class=\"dataframe\">\n",
       "  <thead>\n",
       "    <tr style=\"text-align: right;\">\n",
       "      <th></th>\n",
       "      <th>title</th>\n",
       "      <th>num_published_lectures</th>\n",
       "    </tr>\n",
       "  </thead>\n",
       "  <tbody>\n",
       "    <tr>\n",
       "      <th>490</th>\n",
       "      <td>Accounting–Financial Accounting Total-Beginner...</td>\n",
       "      <td>699</td>\n",
       "    </tr>\n",
       "    <tr>\n",
       "      <th>539</th>\n",
       "      <td>QuickBooks Pro Desktop 2020, 2019, &amp; 2018 Star...</td>\n",
       "      <td>668</td>\n",
       "    </tr>\n",
       "    <tr>\n",
       "      <th>67</th>\n",
       "      <td>The Complete Digital Marketing Guide - 18 Cour...</td>\n",
       "      <td>637</td>\n",
       "    </tr>\n",
       "    <tr>\n",
       "      <th>256</th>\n",
       "      <td>Communication Skills for Beginners</td>\n",
       "      <td>601</td>\n",
       "    </tr>\n",
       "    <tr>\n",
       "      <th>545</th>\n",
       "      <td>Winning Communication Skills for Telephone, Co...</td>\n",
       "      <td>601</td>\n",
       "    </tr>\n",
       "    <tr>\n",
       "      <th>42</th>\n",
       "      <td>The Complete Communication Skills Master Class...</td>\n",
       "      <td>600</td>\n",
       "    </tr>\n",
       "    <tr>\n",
       "      <th>785</th>\n",
       "      <td>Complete Media Training Master Class - Confide...</td>\n",
       "      <td>600</td>\n",
       "    </tr>\n",
       "    <tr>\n",
       "      <th>670</th>\n",
       "      <td>Workplace Communication: Effectively Deliver C...</td>\n",
       "      <td>600</td>\n",
       "    </tr>\n",
       "    <tr>\n",
       "      <th>204</th>\n",
       "      <td>The Complete Storytelling Course for Speaking ...</td>\n",
       "      <td>600</td>\n",
       "    </tr>\n",
       "    <tr>\n",
       "      <th>1564</th>\n",
       "      <td>The Complete Sales Skills Master Class - Sales...</td>\n",
       "      <td>576</td>\n",
       "    </tr>\n",
       "  </tbody>\n",
       "</table>\n",
       "</div>"
      ],
      "text/plain": [
       "                                                  title  \\\n",
       "490   Accounting–Financial Accounting Total-Beginner...   \n",
       "539   QuickBooks Pro Desktop 2020, 2019, & 2018 Star...   \n",
       "67    The Complete Digital Marketing Guide - 18 Cour...   \n",
       "256                  Communication Skills for Beginners   \n",
       "545   Winning Communication Skills for Telephone, Co...   \n",
       "42    The Complete Communication Skills Master Class...   \n",
       "785   Complete Media Training Master Class - Confide...   \n",
       "670   Workplace Communication: Effectively Deliver C...   \n",
       "204   The Complete Storytelling Course for Speaking ...   \n",
       "1564  The Complete Sales Skills Master Class - Sales...   \n",
       "\n",
       "      num_published_lectures  \n",
       "490                      699  \n",
       "539                      668  \n",
       "67                       637  \n",
       "256                      601  \n",
       "545                      601  \n",
       "42                       600  \n",
       "785                      600  \n",
       "670                      600  \n",
       "204                      600  \n",
       "1564                     576  "
      ]
     },
     "execution_count": 36,
     "metadata": {},
     "output_type": "execute_result"
    }
   ],
   "source": [
    "num_lectures = Course[['title', 'num_published_lectures']].sort_values(by = 'num_published_lectures', ascending = False).head(10)\n",
    "num_lectures"
   ]
  },
  {
   "cell_type": "markdown",
   "id": "75183149",
   "metadata": {},
   "source": [
    "* **Accounting–Financial Accounting Total-Beginner** has maximum Published Lectures in our Dataset."
   ]
  },
  {
   "cell_type": "markdown",
   "id": "215a46c4",
   "metadata": {},
   "source": [
    "### **10. Which Course has highest price ?**"
   ]
  },
  {
   "cell_type": "code",
   "execution_count": 37,
   "id": "542e27b8",
   "metadata": {},
   "outputs": [
    {
     "data": {
      "text/html": [
       "<div>\n",
       "<style scoped>\n",
       "    .dataframe tbody tr th:only-of-type {\n",
       "        vertical-align: middle;\n",
       "    }\n",
       "\n",
       "    .dataframe tbody tr th {\n",
       "        vertical-align: top;\n",
       "    }\n",
       "\n",
       "    .dataframe thead th {\n",
       "        text-align: right;\n",
       "    }\n",
       "</style>\n",
       "<table border=\"1\" class=\"dataframe\">\n",
       "  <thead>\n",
       "    <tr style=\"text-align: right;\">\n",
       "      <th></th>\n",
       "      <th>title</th>\n",
       "      <th>price_detail__amount</th>\n",
       "    </tr>\n",
       "  </thead>\n",
       "  <tbody>\n",
       "    <tr>\n",
       "      <th>6032</th>\n",
       "      <td>Responding to RFPs &amp; Doing Business with the U...</td>\n",
       "      <td>12800</td>\n",
       "    </tr>\n",
       "    <tr>\n",
       "      <th>8865</th>\n",
       "      <td>How To Complete The Financials Of A Business P...</td>\n",
       "      <td>12800</td>\n",
       "    </tr>\n",
       "    <tr>\n",
       "      <th>6296</th>\n",
       "      <td>Make Money On Youtube Without Making Videos [2...</td>\n",
       "      <td>12800</td>\n",
       "    </tr>\n",
       "    <tr>\n",
       "      <th>4053</th>\n",
       "      <td>The best guide to startup Employee Share Optio...</td>\n",
       "      <td>12800</td>\n",
       "    </tr>\n",
       "    <tr>\n",
       "      <th>8983</th>\n",
       "      <td>Boost Weixin Marketing Results with Practical ...</td>\n",
       "      <td>12800</td>\n",
       "    </tr>\n",
       "    <tr>\n",
       "      <th>4142</th>\n",
       "      <td>An introduction to trading the news!</td>\n",
       "      <td>12800</td>\n",
       "    </tr>\n",
       "    <tr>\n",
       "      <th>3117</th>\n",
       "      <td>Microsoft Project 2016 by Abu Bakar - 20 PDU's</td>\n",
       "      <td>12800</td>\n",
       "    </tr>\n",
       "    <tr>\n",
       "      <th>1957</th>\n",
       "      <td>Leadership: Advanced Training for Experienced ...</td>\n",
       "      <td>12800</td>\n",
       "    </tr>\n",
       "    <tr>\n",
       "      <th>358</th>\n",
       "      <td>Presentation Skills: Give More Powerful, Memor...</td>\n",
       "      <td>12800</td>\n",
       "    </tr>\n",
       "    <tr>\n",
       "      <th>6161</th>\n",
       "      <td>The Truths about (in)secure Retirement</td>\n",
       "      <td>12800</td>\n",
       "    </tr>\n",
       "  </tbody>\n",
       "</table>\n",
       "</div>"
      ],
      "text/plain": [
       "                                                  title  price_detail__amount\n",
       "6032  Responding to RFPs & Doing Business with the U...                 12800\n",
       "8865  How To Complete The Financials Of A Business P...                 12800\n",
       "6296  Make Money On Youtube Without Making Videos [2...                 12800\n",
       "4053  The best guide to startup Employee Share Optio...                 12800\n",
       "8983  Boost Weixin Marketing Results with Practical ...                 12800\n",
       "4142               An introduction to trading the news!                 12800\n",
       "3117     Microsoft Project 2016 by Abu Bakar - 20 PDU's                 12800\n",
       "1957  Leadership: Advanced Training for Experienced ...                 12800\n",
       "358   Presentation Skills: Give More Powerful, Memor...                 12800\n",
       "6161             The Truths about (in)secure Retirement                 12800"
      ]
     },
     "execution_count": 37,
     "metadata": {},
     "output_type": "execute_result"
    }
   ],
   "source": [
    "Highest_Price = Course[['title', 'price_detail__amount']].sort_values(by = 'price_detail__amount', ascending = False).head(10)\n",
    "Highest_Price"
   ]
  },
  {
   "cell_type": "markdown",
   "id": "332eb2bf",
   "metadata": {},
   "source": [
    "### **11. Which Course has maximum Discount Price ?**"
   ]
  },
  {
   "cell_type": "code",
   "execution_count": 38,
   "id": "9426f2b8",
   "metadata": {},
   "outputs": [
    {
     "data": {
      "text/html": [
       "<div>\n",
       "<style scoped>\n",
       "    .dataframe tbody tr th:only-of-type {\n",
       "        vertical-align: middle;\n",
       "    }\n",
       "\n",
       "    .dataframe tbody tr th {\n",
       "        vertical-align: top;\n",
       "    }\n",
       "\n",
       "    .dataframe thead th {\n",
       "        text-align: right;\n",
       "    }\n",
       "</style>\n",
       "<table border=\"1\" class=\"dataframe\">\n",
       "  <thead>\n",
       "    <tr style=\"text-align: right;\">\n",
       "      <th></th>\n",
       "      <th>title</th>\n",
       "      <th>discount_price__amount</th>\n",
       "    </tr>\n",
       "  </thead>\n",
       "  <tbody>\n",
       "    <tr>\n",
       "      <th>7367</th>\n",
       "      <td>The 12 Pillars of Trading &amp; Investing</td>\n",
       "      <td>3200.0</td>\n",
       "    </tr>\n",
       "    <tr>\n",
       "      <th>5761</th>\n",
       "      <td>How To Get Wholesale Real Estate Deals In 7 Da...</td>\n",
       "      <td>3200.0</td>\n",
       "    </tr>\n",
       "    <tr>\n",
       "      <th>3782</th>\n",
       "      <td>Certified Quality Process Analyst Training</td>\n",
       "      <td>3200.0</td>\n",
       "    </tr>\n",
       "    <tr>\n",
       "      <th>8776</th>\n",
       "      <td>Art Advisory 101</td>\n",
       "      <td>3200.0</td>\n",
       "    </tr>\n",
       "    <tr>\n",
       "      <th>5344</th>\n",
       "      <td>Write Your Best Fiction and Get It Published</td>\n",
       "      <td>3200.0</td>\n",
       "    </tr>\n",
       "    <tr>\n",
       "      <th>4594</th>\n",
       "      <td>GDPR Foundation in 1 Hour - Get Certified</td>\n",
       "      <td>3200.0</td>\n",
       "    </tr>\n",
       "    <tr>\n",
       "      <th>3874</th>\n",
       "      <td>How to start AIRBNB during pandemic without ow...</td>\n",
       "      <td>3200.0</td>\n",
       "    </tr>\n",
       "    <tr>\n",
       "      <th>7000</th>\n",
       "      <td>PfMP question bank. 2 real-exam tests</td>\n",
       "      <td>3200.0</td>\n",
       "    </tr>\n",
       "    <tr>\n",
       "      <th>677</th>\n",
       "      <td>Certified Quality Engineer Training</td>\n",
       "      <td>3200.0</td>\n",
       "    </tr>\n",
       "    <tr>\n",
       "      <th>5901</th>\n",
       "      <td>PfMP Application Development</td>\n",
       "      <td>3200.0</td>\n",
       "    </tr>\n",
       "  </tbody>\n",
       "</table>\n",
       "</div>"
      ],
      "text/plain": [
       "                                                  title  \\\n",
       "7367              The 12 Pillars of Trading & Investing   \n",
       "5761  How To Get Wholesale Real Estate Deals In 7 Da...   \n",
       "3782         Certified Quality Process Analyst Training   \n",
       "8776                                   Art Advisory 101   \n",
       "5344       Write Your Best Fiction and Get It Published   \n",
       "4594          GDPR Foundation in 1 Hour - Get Certified   \n",
       "3874  How to start AIRBNB during pandemic without ow...   \n",
       "7000              PfMP question bank. 2 real-exam tests   \n",
       "677                 Certified Quality Engineer Training   \n",
       "5901                       PfMP Application Development   \n",
       "\n",
       "      discount_price__amount  \n",
       "7367                  3200.0  \n",
       "5761                  3200.0  \n",
       "3782                  3200.0  \n",
       "8776                  3200.0  \n",
       "5344                  3200.0  \n",
       "4594                  3200.0  \n",
       "3874                  3200.0  \n",
       "7000                  3200.0  \n",
       "677                   3200.0  \n",
       "5901                  3200.0  "
      ]
     },
     "execution_count": 38,
     "metadata": {},
     "output_type": "execute_result"
    }
   ],
   "source": [
    "Max_Discount = Course[['title', 'discount_price__amount']].sort_values(by = 'discount_price__amount', ascending = False).head(10)\n",
    "Max_Discount"
   ]
  },
  {
   "cell_type": "markdown",
   "id": "de975fa2",
   "metadata": {},
   "source": [
    "###  **12. Correlation Graph**"
   ]
  },
  {
   "cell_type": "code",
   "execution_count": 39,
   "id": "686ba2ea",
   "metadata": {},
   "outputs": [
    {
     "data": {
      "text/plain": [
       "Text(0.5, 1.0, 'Courses')"
      ]
     },
     "execution_count": 39,
     "metadata": {},
     "output_type": "execute_result"
    },
    {
     "data": {
      "image/png": "[encoded data removed]",
      "text/plain": [
       "<Figure size 1080x504 with 2 Axes>"
      ]
     },
     "metadata": {
      "needs_background": "light"
     },
     "output_type": "display_data"
    }
   ],
   "source": [
    "plt.figure(figsize=(15, 7))\n",
    "sns.heatmap(Course.corr().round(2), annot=True)\n",
    "plt.title('Courses')"
   ]
  },
  {
   "cell_type": "markdown",
   "id": "4fb40f78",
   "metadata": {},
   "source": [
    "So from this we can clearly seen that no variable is showing High correlation and other variables in this dataset except num_subscribers is positively correlated with num_reviews which is Genuine. "
   ]
  },
  {
   "cell_type": "markdown",
   "id": "55d0c77d",
   "metadata": {},
   "source": [
    "### **13. How Price of Courses depend on the Number of Published lecture ?**"
   ]
  },
  {
   "cell_type": "code",
   "execution_count": 40,
   "id": "13bb44a5",
   "metadata": {},
   "outputs": [
    {
     "data": {
      "text/plain": [
       "Text(0.5, 1.0, 'Published Lecture to Prices')"
      ]
     },
     "execution_count": 40,
     "metadata": {},
     "output_type": "execute_result"
    },
    {
     "data": {
      "image/png": "[encoded data removed]",
      "text/plain": [
       "<Figure size 1080x504 with 1 Axes>"
      ]
     },
     "metadata": {
      "needs_background": "light"
     },
     "output_type": "display_data"
    }
   ],
   "source": [
    "plt.figure(figsize=(15,7))\n",
    "# Y= a+bX\n",
    "sns.regplot(y=Course['num_published_lectures'], x=Course['price_detail__amount'])\n",
    "plt.title('Published Lecture to Prices')"
   ]
  },
  {
   "cell_type": "markdown",
   "id": "e1cc0669",
   "metadata": {},
   "source": [
    "**As we can see there is a little correlation with the number of published lectures and price, As the lecture is being published, so is the price of the course incresed slightly.**"
   ]
  },
  {
   "cell_type": "markdown",
   "id": "6f1fa14c",
   "metadata": {},
   "source": [
    "### **14. Is Number of Practice Test affect the price of Course ?**"
   ]
  },
  {
   "cell_type": "code",
   "execution_count": 41,
   "id": "3ca9eff6",
   "metadata": {},
   "outputs": [
    {
     "data": {
      "text/plain": [
       "Text(0.5, 1.0, 'Published To Price')"
      ]
     },
     "execution_count": 41,
     "metadata": {},
     "output_type": "execute_result"
    },
    {
     "data": {
      "image/png": "[encoded data removed]",
      "text/plain": [
       "<Figure size 1080x504 with 1 Axes>"
      ]
     },
     "metadata": {
      "needs_background": "light"
     },
     "output_type": "display_data"
    }
   ],
   "source": [
    "plt.figure(figsize=(15,7))\n",
    "sns.scatterplot(y=Course['num_published_practice_tests'], x=Course['price_detail__amount'])\n",
    "plt.title('Published To Price')"
   ]
  },
  {
   "cell_type": "markdown",
   "id": "6afbb76b",
   "metadata": {},
   "source": [
    "**From Above Chart, We can see our chart is approximatly equaly Distributed, So number of test does't affect the course price.**"
   ]
  },
  {
   "cell_type": "markdown",
   "id": "b7b4a146",
   "metadata": {},
   "source": [
    "### **15. In which year maximum Courses was Created ?**"
   ]
  },
  {
   "cell_type": "code",
   "execution_count": 42,
   "id": "356b0cba",
   "metadata": {},
   "outputs": [
    {
     "data": {
      "text/plain": [
       "Text(0.5, 1.0, 'Number of course increased per Year')"
      ]
     },
     "execution_count": 42,
     "metadata": {},
     "output_type": "execute_result"
    },
    {
     "data": {
      "image/png": "[encoded data removed]",
      "text/plain": [
       "<Figure size 1080x504 with 1 Axes>"
      ]
     },
     "metadata": {
      "needs_background": "light"
     },
     "output_type": "display_data"
    }
   ],
   "source": [
    "plt.figure(figsize=(15, 7))\n",
    "plt.xticks(fontsize=10, rotation = 'vertical')\n",
    "sns.countplot(x = Course['year'], order = Course.year.value_counts().\n",
    "             sort_values(ascending = False).index)\n",
    "plt.title('Number of course increased per Year')"
   ]
  },
  {
   "cell_type": "markdown",
   "id": "8f6e4e31",
   "metadata": {},
   "source": [
    "* **A highest number of courses in this Dataset was created in 2018, then after 2018 it goes down in 2019 and 2020 for some certain Reasons.**"
   ]
  },
  {
   "cell_type": "markdown",
   "id": "df43dd0c",
   "metadata": {},
   "source": [
    "###  **16. How number of Subscribers depend on the Published Lecture ?**"
   ]
  },
  {
   "cell_type": "code",
   "execution_count": 43,
   "id": "12abca19",
   "metadata": {},
   "outputs": [
    {
     "data": {
      "text/plain": [
       "Text(0.5, 1.0, 'Subscriber Based on lecture')"
      ]
     },
     "execution_count": 43,
     "metadata": {},
     "output_type": "execute_result"
    },
    {
     "data": {
      "image/png": "[encoded data removed]",
      "text/plain": [
       "<Figure size 1080x504 with 1 Axes>"
      ]
     },
     "metadata": {
      "needs_background": "light"
     },
     "output_type": "display_data"
    }
   ],
   "source": [
    "plt.figure(figsize=(15,7))\n",
    "sns.regplot(y=Course['num_subscribers'], x=Course['num_published_lectures'], color='g')\n",
    "plt.title('Subscriber Based on lecture')"
   ]
  },
  {
   "cell_type": "markdown",
   "id": "8e7ad309",
   "metadata": {},
   "source": [
    "**In Above chart the is a little correlation between num of lecture and num subscriber, Sbuscriber increase with the number of lectures.**"
   ]
  },
  {
   "cell_type": "markdown",
   "id": "372fbdb5",
   "metadata": {},
   "source": [
    "### **17. Number of Subscribers increased year wise ?**"
   ]
  },
  {
   "cell_type": "code",
   "execution_count": 44,
   "id": "de171694",
   "metadata": {},
   "outputs": [
    {
     "data": {
      "text/plain": [
       "Text(0.5, 0, 'Year')"
      ]
     },
     "execution_count": 44,
     "metadata": {},
     "output_type": "execute_result"
    },
    {
     "data": {
      "image/png": "[encoded data removed]",
      "text/plain": [
       "<Figure size 1440x504 with 1 Axes>"
      ]
     },
     "metadata": {
      "needs_background": "light"
     },
     "output_type": "display_data"
    }
   ],
   "source": [
    "plt.figure(figsize=(20, 7))\n",
    "Course.groupby('year').num_subscribers.sum().plot(kind='bar', width=0.2, color='g')\n",
    "plt.xticks(fontsize=13, rotation = 'horizontal')\n",
    "plt.xlabel('Year', fontsize=15)"
   ]
  },
  {
   "cell_type": "markdown",
   "id": "68a9f784",
   "metadata": {},
   "source": [
    "* From this graph we can easily see that, **Subscribres** are increased widely in year 2015."
   ]
  },
  {
   "cell_type": "markdown",
   "id": "ba58bb58",
   "metadata": {},
   "source": [
    "### **18. Which year has highest Rating ?**"
   ]
  },
  {
   "cell_type": "code",
   "execution_count": 45,
   "id": "d890426b",
   "metadata": {},
   "outputs": [
    {
     "data": {
      "text/plain": [
       "Text(0.5, 0, 'Year')"
      ]
     },
     "execution_count": 45,
     "metadata": {},
     "output_type": "execute_result"
    },
    {
     "data": {
      "image/png": "[encoded data removed]",
      "text/plain": [
       "<Figure size 1080x504 with 1 Axes>"
      ]
     },
     "metadata": {
      "needs_background": "light"
     },
     "output_type": "display_data"
    }
   ],
   "source": [
    "plt.figure(figsize=(15, 7))\n",
    "Course.groupby('year').rating.sum().plot(kind='line', color='g')\n",
    "plt.xticks(fontsize=13, rotation = 'horizontal')\n",
    "plt.xlabel('Year', fontsize=15)"
   ]
  },
  {
   "cell_type": "markdown",
   "id": "c0b3f311",
   "metadata": {},
   "source": [
    "From above graph, From 2010 to 2014 our **Rating** graphs rose sharply and then suddenly it drop in 2016 and then From 2016 to 2018, the **Rating** grew rapidly then again after 2018 it fall down. \n",
    "* The highest **Rating** was in 2018."
   ]
  },
  {
   "cell_type": "markdown",
   "id": "492b75be",
   "metadata": {},
   "source": [
    "### **19. In which year maximum lectures was Published ?**"
   ]
  },
  {
   "cell_type": "code",
   "execution_count": 46,
   "id": "90c94e64",
   "metadata": {
    "scrolled": false
   },
   "outputs": [
    {
     "data": {
      "text/plain": [
       "Text(0.5, 0, 'Year')"
      ]
     },
     "execution_count": 46,
     "metadata": {},
     "output_type": "execute_result"
    },
    {
     "data": {
      "image/png": "[encoded data removed]",
      "text/plain": [
       "<Figure size 1080x504 with 1 Axes>"
      ]
     },
     "metadata": {
      "needs_background": "light"
     },
     "output_type": "display_data"
    }
   ],
   "source": [
    "plt.figure(figsize=(15, 7))\n",
    "Course.groupby('year').num_published_lectures.sum().plot(kind='bar',width=0.2, color=['y','g','b','r','grey','orange','black','brown','pink','purple'])\n",
    "plt.xticks(fontsize=13, rotation = 'horizontal')\n",
    "plt.xlabel('Year', fontsize=15)"
   ]
  },
  {
   "cell_type": "markdown",
   "id": "267db114",
   "metadata": {},
   "source": [
    "* **The maximum Lectures was Published in 2018.**"
   ]
  },
  {
   "cell_type": "markdown",
   "id": "0ff791c0",
   "metadata": {},
   "source": [
    "### **20. In which year people mostly reviews the Course ?**"
   ]
  },
  {
   "cell_type": "code",
   "execution_count": 47,
   "id": "aa1e848f",
   "metadata": {},
   "outputs": [
    {
     "data": {
      "text/plain": [
       "Text(0.5, 0, 'Year')"
      ]
     },
     "execution_count": 47,
     "metadata": {},
     "output_type": "execute_result"
    },
    {
     "data": {
      "image/png": "[encoded data removed]",
      "text/plain": [
       "<Figure size 1080x504 with 1 Axes>"
      ]
     },
     "metadata": {
      "needs_background": "light"
     },
     "output_type": "display_data"
    }
   ],
   "source": [
    "plt.figure(figsize=(15, 7))\n",
    "Course.groupby('year').num_reviews.sum().plot(kind='line', color='g')\n",
    "plt.xticks(fontsize=13, rotation = 'horizontal')\n",
    "plt.xlabel('Year', fontsize=15)"
   ]
  },
  {
   "cell_type": "markdown",
   "id": "e274694c",
   "metadata": {},
   "source": [
    "From above char, The highest number of **Reviews** came between 2015 and 2017.\n",
    "* The highest number of **Reviews** have been received in 2017."
   ]
  },
  {
   "cell_type": "markdown",
   "id": "35c75ccb",
   "metadata": {},
   "source": [
    "# Conclusion / Insights"
   ]
  },
  {
   "cell_type": "markdown",
   "id": "3674a4e8",
   "metadata": {},
   "source": [
    "1. No columns are highly Correlated in our Data set.\n",
    "2. Accounting–Financial Accounting Total-Beginner - has maximum Published Lectures in our Dataset.\n",
    "3. The Complete SQL Bootcamp 2020 - course has highest number of Reviews.\n",
    "4. As the lecture is being published, so in the price of the course increased slightly.\n",
    "5. A highest number of courses in this Dataset was created in 2018, then after 2018 it goes down in 2019 and 2020 for some certain Reasons.\n",
    "6. Subscribres are increased widely in year 2015.\n",
    "7. From 2010 to 2014 our Rating graphs rose sharply and then suddenly it drop in 2016 and then From 2016 to 2018, the Rating grew rapidly then again after 2018 it fall down.\n",
    "8. The highest number of Reviews came between 2015 and 2017.\n",
    "9. As the lecture is being published, so in the subscribers of the course increased slightly."
   ]
  },
  {
   "cell_type": "code",
   "execution_count": null,
   "id": "da0069b7",
   "metadata": {},
   "outputs": [],
   "source": []
  }
 ],
 "metadata": {
  "kernelspec": {
   "display_name": "Python 3 (ipykernel)",
   "language": "python",
   "name": "python3"
  },
  "language_info": {
   "codemirror_mode": {
    "name": "ipython",
    "version": 3
   },
   "file_extension": ".py",
   "mimetype": "text/x-python",
   "name": "python",
   "nbconvert_exporter": "python",
   "pygments_lexer": "ipython3",
   "version": "3.9.12"
  }
 },
 "nbformat": 4,
 "nbformat_minor": 5
}
